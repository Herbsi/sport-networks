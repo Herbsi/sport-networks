{
 "cells": [
  {
   "cell_type": "code",
   "execution_count": null,
   "id": "70c4a8e6-4d49-4efe-80fd-f54f3ded652a",
   "metadata": {},
   "outputs": [],
   "source": [
    "import networkx as nx\n",
    "import numpy as np\n",
    "\n",
    "import network\n",
    "from network import Weight\n",
    "\n",
    "from preprocess_data import read_networks, Game, PowerPlay, Situation\n",
    "from datetime import date\n",
    "from enum import Enum\n",
    "\n",
    "import matplotlib.mlab as mlab\n",
    "import matplotlib.pyplot as plt\n",
    "\n",
    "from scipy import stats"
   ]
  },
  {
   "cell_type": "code",
   "execution_count": null,
   "id": "fee3ebd5-c611-4cfe-b20e-2cf5bdb3db7c",
   "metadata": {},
   "outputs": [],
   "source": [
    "def regular_networks():\n",
    "    for nw in read_networks(Situation.REGULAR):\n",
    "        ev_centr = network.eigenvector_centrality(nw)\n",
    "        yield ev_centr\n",
    "        # time = calculate_time(Game(game), None)\n",
    "        # yield dict((k, v / time) for (k, v) in ev_centr.items())"
   ]
  },
  {
   "cell_type": "code",
   "execution_count": null,
   "id": "9f66ae07-3174-4d1f-ad7b-061f1131135c",
   "metadata": {},
   "outputs": [],
   "source": [
    "def power_play_networks():\n",
    "    for nw in read_networks(Situation.POWER_PLAY):\n",
    "        ev_centr = network.eigenvector_centrality(nw)\n",
    "        # time = calculate_time(Game(game), [PowerPlay(pp)])\n",
    "        yield ev_centr\n",
    "        # yield dict((k, v / time) for (k, v) in ev_centr.items())"
   ]
  },
  {
   "cell_type": "code",
   "execution_count": null,
   "id": "320d7442-62c5-475b-8bae-03c9cb6b04b1",
   "metadata": {},
   "outputs": [],
   "source": [
    "positions = [\"Left Defense\", \"Right Defense\", \"Left Wing\", \"Center\", \"Right Wing\"]"
   ]
  },
  {
   "cell_type": "code",
   "execution_count": null,
   "id": "8ceb749d-def7-4d16-8e47-78ec5b260bae",
   "metadata": {},
   "outputs": [],
   "source": [
    "# Regular Networks: Eigenvector centrality\n",
    "regular_centralities = dict((pos, []) for pos in positions)\n",
    "\n",
    "fig, axs = plt.subplots(5, 1, sharex=True, sharey=True)\n",
    "fig.set_figheight(15)\n",
    "fig.set_figwidth(15)\n",
    "\n",
    "for position, ax in zip(positions, axs):\n",
    "    x = [stats[position] for stats in regular_networks()]\n",
    "    regular_centralities[position] = x\n",
    "    n, bins, patches = ax.hist(x, facecolor='blue', alpha=0.5, weights=np.ones_like(x) / len(x))\n",
    "    ax.set_title(position)\n",
    "\n",
    "plt.savefig('regular.png', dpi=300)\n",
    "plt.show()\n"
   ]
  },
  {
   "cell_type": "code",
   "execution_count": null,
   "id": "b6a8f679-ea9f-46e7-a720-4d6bbc97e38f",
   "metadata": {},
   "outputs": [],
   "source": [
    "# Power Play Networks: Eigenvector centrality\n",
    "pp_centralities = dict((pos, []) for pos in positions)\n",
    "\n",
    "fig, axs = plt.subplots(5, 1, sharex=True, sharey=True)\n",
    "fig.set_figheight(15)\n",
    "fig.set_figwidth(15)\n",
    "\n",
    "for position, ax in zip(positions, axs):\n",
    "    x = [stats[position] for stats in power_play_networks()]\n",
    "    pp_centralities[position] = x\n",
    "    n, bins, patches = ax.hist(x, facecolor='blue', alpha=0.5, weights=np.ones_like(x) / len(x))\n",
    "    ax.set_title(position)\n",
    "\n",
    "plt.savefig('pp.png', dpi=300)\n",
    "plt.show()\n"
   ]
  },
  {
   "cell_type": "code",
   "execution_count": null,
   "id": "837d17af-851a-476a-89d6-bde627df0d12",
   "metadata": {},
   "outputs": [],
   "source": [
    "for position in positions:\n",
    "    print(position)\n",
    "    print(stats.ttest_ind(regular_centralities[position], pp_centralities[position], alternative=\"greater\"))"
   ]
  },
  {
   "cell_type": "code",
   "execution_count": null,
   "id": "90b2ef02-72a5-4c60-a4e9-3661a9e8a0a1",
   "metadata": {},
   "outputs": [],
   "source": [
    "for p in positions:\n",
    "    for p2 in positions:\n",
    "        if p != p2:\n",
    "            print(f\"{p}\\tvs\\t{p2}\")\n",
    "            print(stats.ttest_ind(regular_centralities[p], regular_centralities[p2], alternative=\"greater\"))\n",
    "            print()"
   ]
  },
  {
   "cell_type": "code",
   "execution_count": null,
   "id": "88538c98-deb9-44da-85bf-80f6c19c2735",
   "metadata": {},
   "outputs": [],
   "source": [
    "for p in positions:\n",
    "    for p2 in positions:\n",
    "        if p < p2:\n",
    "            print(f\"{p}\\tvs\\t{p2}\")\n",
    "            print(stats.ttest_ind(pp_centralities[p], pp_centralities[p2], alternative=\"greater\"))\n",
    "            print()"
   ]
  },
  {
   "cell_type": "code",
   "execution_count": null,
   "id": "8260cd84-a87e-4c62-aa5e-8ff433d2a299",
   "metadata": {},
   "outputs": [],
   "source": []
  }
 ],
 "metadata": {
  "kernelspec": {
   "display_name": "Python 3 (ipykernel)",
   "language": "python",
   "name": "python3"
  },
  "language_info": {
   "codemirror_mode": {
    "name": "ipython",
    "version": 3
   },
   "file_extension": ".py",
   "mimetype": "text/x-python",
   "name": "python",
   "nbconvert_exporter": "python",
   "pygments_lexer": "ipython3",
   "version": "3.11.5"
  }
 },
 "nbformat": 4,
 "nbformat_minor": 5
}
