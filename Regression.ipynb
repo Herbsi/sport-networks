{
 "cells": [
  {
   "cell_type": "code",
   "execution_count": 1,
   "metadata": {},
   "outputs": [],
   "source": [
    "from typing import Callable, List, Tuple\n",
    "\n",
    "import matplotlib.pyplot as plt\n",
    "import numpy as np\n",
    "import pandas as pd\n",
    "import seaborn as sns\n",
    "import statsmodels.api as sm\n",
    "from scipy.stats import pearsonr\n",
    "\n",
    "import network\n",
    "from preprocess_data import Game, PowerPlay, Situation, Venue, read_networks"
   ]
  },
  {
   "cell_type": "code",
   "execution_count": 2,
   "metadata": {},
   "outputs": [],
   "source": [
    "def regular_networks():\n",
    "    return read_networks(Situation.REGULAR)\n",
    "\n",
    "\n",
    "def power_play_networks():\n",
    "    return read_networks(Situation.POWER_PLAY)\n",
    "\n",
    "\n",
    "def penalty_kill_networks():\n",
    "    return read_networks(Situation.PENALTY_KILL)"
   ]
  },
  {
   "cell_type": "code",
   "execution_count": 3,
   "metadata": {},
   "outputs": [],
   "source": [
    "def fit(df: pd.DataFrame, covariates: List[str], target: str, family: str = \"binomial\"):\n",
    "    X = df[covariates]\n",
    "    X = sm.add_constant(X)\n",
    "    y = df[target]\n",
    "    match family:\n",
    "        case \"binomial\":\n",
    "            model = sm.Logit(y, X)\n",
    "        case \"poisson\":\n",
    "            model = sm.GLM(y, X, family=sm.families.Poisson())\n",
    "        case \"gaussian\":\n",
    "            model = sm.OLS(y, X)\n",
    "        case _:\n",
    "            raise ValueError(f\"{family} regression not implemented\")\n",
    "    res = model.fit()\n",
    "    print(res.summary())"
   ]
  },
  {
   "cell_type": "code",
   "execution_count": 4,
   "metadata": {},
   "outputs": [],
   "source": [
    "controls = {\n",
    "    network.assortativity: [\"log_n_passes\"],\n",
    "    network.clustering: [\"log_n_passes\"],\n",
    "}"
   ]
  },
  {
   "cell_type": "markdown",
   "metadata": {},
   "source": [
    "# Match Outcome Prediction"
   ]
  },
  {
   "cell_type": "code",
   "execution_count": 5,
   "metadata": {},
   "outputs": [],
   "source": [
    "def get_win_df(features: List[Callable] | Callable) -> pd.DataFrame:\n",
    "    \"\"\"\n",
    "    Builds a dataframe of features for each game using the regular situations (no Power Play and Penalty Kill).\n",
    "\n",
    "    Args:\n",
    "        features (List[Callable] | Callable): features to be computed for each game\n",
    "\n",
    "    Returns:\n",
    "        pd.DataFrame: Dataframe with columns game_str, log_n_passes, win, and features\n",
    "    \"\"\"\n",
    "    if callable(features):\n",
    "        features = [features]\n",
    "    df = pd.DataFrame(\n",
    "        [\n",
    "            {\"game_str\": G.name, \"n_passes\": G.n_passes, \"log_n_passes\": np.log(G.n_passes), \"win\": G.win}\n",
    "            | {feature.__name__: feature(G) for feature in features}\n",
    "            for G in regular_networks()\n",
    "        ]\n",
    "    )\n",
    "    return df"
   ]
  },
  {
   "cell_type": "markdown",
   "metadata": {},
   "source": [
    "We don't look at connectivity and number of strongly connected components because our networks are fully connected. For the same reason we use *weighted* clustering in contrast to the Haka Network paper."
   ]
  },
  {
   "cell_type": "code",
   "execution_count": 6,
   "metadata": {},
   "outputs": [
    {
     "data": {
      "text/html": [
       "<div>\n",
       "<style scoped>\n",
       "    .dataframe tbody tr th:only-of-type {\n",
       "        vertical-align: middle;\n",
       "    }\n",
       "\n",
       "    .dataframe tbody tr th {\n",
       "        vertical-align: top;\n",
       "    }\n",
       "\n",
       "    .dataframe thead th {\n",
       "        text-align: right;\n",
       "    }\n",
       "</style>\n",
       "<table border=\"1\" class=\"dataframe\">\n",
       "  <thead>\n",
       "    <tr style=\"text-align: right;\">\n",
       "      <th></th>\n",
       "      <th>game_str</th>\n",
       "      <th>n_passes</th>\n",
       "      <th>log_n_passes</th>\n",
       "      <th>win</th>\n",
       "      <th>assortativity</th>\n",
       "      <th>clustering</th>\n",
       "    </tr>\n",
       "  </thead>\n",
       "  <tbody>\n",
       "    <tr>\n",
       "      <th>0</th>\n",
       "      <td>2022-02-08 Canada at USA_reg_home</td>\n",
       "      <td>216.0</td>\n",
       "      <td>5.375278</td>\n",
       "      <td>0</td>\n",
       "      <td>0.120174</td>\n",
       "      <td>0.461392</td>\n",
       "    </tr>\n",
       "    <tr>\n",
       "      <th>1</th>\n",
       "      <td>2022-02-08 Canada at USA_reg_away</td>\n",
       "      <td>185.0</td>\n",
       "      <td>5.220356</td>\n",
       "      <td>1</td>\n",
       "      <td>-0.102773</td>\n",
       "      <td>0.474962</td>\n",
       "    </tr>\n",
       "    <tr>\n",
       "      <th>2</th>\n",
       "      <td>2022-02-08 ROC at Finland_reg_home</td>\n",
       "      <td>265.0</td>\n",
       "      <td>5.579730</td>\n",
       "      <td>1</td>\n",
       "      <td>0.041894</td>\n",
       "      <td>0.493256</td>\n",
       "    </tr>\n",
       "    <tr>\n",
       "      <th>3</th>\n",
       "      <td>2022-02-08 ROC at Finland_reg_away</td>\n",
       "      <td>200.0</td>\n",
       "      <td>5.298317</td>\n",
       "      <td>0</td>\n",
       "      <td>-0.120709</td>\n",
       "      <td>0.389216</td>\n",
       "    </tr>\n",
       "    <tr>\n",
       "      <th>4</th>\n",
       "      <td>2022-02-12 Switzerland at ROC_reg_home</td>\n",
       "      <td>266.0</td>\n",
       "      <td>5.583496</td>\n",
       "      <td>0</td>\n",
       "      <td>-0.026035</td>\n",
       "      <td>0.497432</td>\n",
       "    </tr>\n",
       "    <tr>\n",
       "      <th>5</th>\n",
       "      <td>2022-02-12 Switzerland at ROC_reg_away</td>\n",
       "      <td>212.0</td>\n",
       "      <td>5.356586</td>\n",
       "      <td>1</td>\n",
       "      <td>0.211820</td>\n",
       "      <td>0.476648</td>\n",
       "    </tr>\n",
       "    <tr>\n",
       "      <th>6</th>\n",
       "      <td>2022-02-14 Switzerland at Canada_reg_home</td>\n",
       "      <td>331.0</td>\n",
       "      <td>5.802118</td>\n",
       "      <td>1</td>\n",
       "      <td>0.028629</td>\n",
       "      <td>0.674079</td>\n",
       "    </tr>\n",
       "    <tr>\n",
       "      <th>7</th>\n",
       "      <td>2022-02-14 Switzerland at Canada_reg_away</td>\n",
       "      <td>147.0</td>\n",
       "      <td>4.990433</td>\n",
       "      <td>0</td>\n",
       "      <td>0.030374</td>\n",
       "      <td>0.296738</td>\n",
       "    </tr>\n",
       "    <tr>\n",
       "      <th>8</th>\n",
       "      <td>2022-02-14 USA at Finland_reg_home</td>\n",
       "      <td>239.0</td>\n",
       "      <td>5.476464</td>\n",
       "      <td>0</td>\n",
       "      <td>0.077702</td>\n",
       "      <td>0.432872</td>\n",
       "    </tr>\n",
       "    <tr>\n",
       "      <th>9</th>\n",
       "      <td>2022-02-14 USA at Finland_reg_away</td>\n",
       "      <td>220.0</td>\n",
       "      <td>5.393628</td>\n",
       "      <td>1</td>\n",
       "      <td>0.184663</td>\n",
       "      <td>0.563418</td>\n",
       "    </tr>\n",
       "    <tr>\n",
       "      <th>10</th>\n",
       "      <td>2022-02-16 Switzerland at Finland_reg_home</td>\n",
       "      <td>247.0</td>\n",
       "      <td>5.509388</td>\n",
       "      <td>1</td>\n",
       "      <td>0.052865</td>\n",
       "      <td>0.631711</td>\n",
       "    </tr>\n",
       "    <tr>\n",
       "      <th>11</th>\n",
       "      <td>2022-02-16 Switzerland at Finland_reg_away</td>\n",
       "      <td>182.0</td>\n",
       "      <td>5.204007</td>\n",
       "      <td>0</td>\n",
       "      <td>0.181087</td>\n",
       "      <td>0.495652</td>\n",
       "    </tr>\n",
       "  </tbody>\n",
       "</table>\n",
       "</div>"
      ],
      "text/plain": [
       "                                      game_str  n_passes  log_n_passes  win  \\\n",
       "0            2022-02-08 Canada at USA_reg_home     216.0      5.375278    0   \n",
       "1            2022-02-08 Canada at USA_reg_away     185.0      5.220356    1   \n",
       "2           2022-02-08 ROC at Finland_reg_home     265.0      5.579730    1   \n",
       "3           2022-02-08 ROC at Finland_reg_away     200.0      5.298317    0   \n",
       "4       2022-02-12 Switzerland at ROC_reg_home     266.0      5.583496    0   \n",
       "5       2022-02-12 Switzerland at ROC_reg_away     212.0      5.356586    1   \n",
       "6    2022-02-14 Switzerland at Canada_reg_home     331.0      5.802118    1   \n",
       "7    2022-02-14 Switzerland at Canada_reg_away     147.0      4.990433    0   \n",
       "8           2022-02-14 USA at Finland_reg_home     239.0      5.476464    0   \n",
       "9           2022-02-14 USA at Finland_reg_away     220.0      5.393628    1   \n",
       "10  2022-02-16 Switzerland at Finland_reg_home     247.0      5.509388    1   \n",
       "11  2022-02-16 Switzerland at Finland_reg_away     182.0      5.204007    0   \n",
       "\n",
       "    assortativity  clustering  \n",
       "0        0.120174    0.461392  \n",
       "1       -0.102773    0.474962  \n",
       "2        0.041894    0.493256  \n",
       "3       -0.120709    0.389216  \n",
       "4       -0.026035    0.497432  \n",
       "5        0.211820    0.476648  \n",
       "6        0.028629    0.674079  \n",
       "7        0.030374    0.296738  \n",
       "8        0.077702    0.432872  \n",
       "9        0.184663    0.563418  \n",
       "10       0.052865    0.631711  \n",
       "11       0.181087    0.495652  "
      ]
     },
     "execution_count": 6,
     "metadata": {},
     "output_type": "execute_result"
    }
   ],
   "source": [
    "features = [\n",
    "    network.assortativity,\n",
    "    network.clustering,\n",
    "    # network.degree_mean,\n",
    "    # network.degree_std,\n",
    "]\n",
    "df = get_win_df(features)\n",
    "df"
   ]
  },
  {
   "cell_type": "code",
   "execution_count": 7,
   "metadata": {},
   "outputs": [
    {
     "data": {
      "image/png": "[encoded data removed]",
      "text/plain": [
       "<Figure size 826.5x250 with 3 Axes>"
      ]
     },
     "metadata": {},
     "output_type": "display_data"
    }
   ],
   "source": [
    "df = get_win_df(features)\n",
    "xs = [\"log_n_passes\"] + [feature.__name__ for feature in features]\n",
    "x_labels = {\n",
    "    \"log_n_passes\": r\"$\\log(\\text{Passes})$\",\n",
    "    \"assortativity\": \"Assortativity\",\n",
    "    \"clustering\": \"Clustering\",\n",
    "}\n",
    "\n",
    "grid = sns.pairplot(\n",
    "    df,\n",
    "    x_vars=xs,\n",
    "    y_vars=[\"win\"],\n",
    "    hue=\"n_passes\",\n",
    ")\n",
    "for x, ax in zip(xs, grid.axes[0]):\n",
    "    sns.regplot(\n",
    "        x=x,\n",
    "        y=\"win\",\n",
    "        data=df,\n",
    "        logistic=True,\n",
    "        ci=None,\n",
    "        ax=ax,\n",
    "        scatter=False,\n",
    "        color=\"grey\",\n",
    "        line_kws={\"lw\": 1, \"ls\": \"--\", \"alpha\": 0.5},\n",
    "    )\n",
    "    ax.set_xlabel(x_labels[x])\n",
    "    ax.set_ylabel(\"Win\")\n",
    "    plt.yticks([0, 1])\n",
    "\n",
    "grid.legend.set_title(\"Passes\")\n",
    "plt.savefig(\"report/images/hockey/winner_scatter.png\", dpi=600, bbox_inches=\"tight\")"
   ]
  },
  {
   "cell_type": "code",
   "execution_count": 8,
   "metadata": {},
   "outputs": [
    {
     "name": "stdout",
     "output_type": "stream",
     "text": [
      "Optimization terminated successfully.\n",
      "         Current function value: 0.614040\n",
      "         Iterations 5\n",
      "                           Logit Regression Results                           \n",
      "==============================================================================\n",
      "Dep. Variable:                    win   No. Observations:                   12\n",
      "Model:                          Logit   Df Residuals:                       10\n",
      "Method:                           MLE   Df Model:                            1\n",
      "Date:                Mon, 18 Dec 2023   Pseudo R-squ.:                  0.1141\n",
      "Time:                        15:43:46   Log-Likelihood:                -7.3685\n",
      "converged:                       True   LL-Null:                       -8.3178\n",
      "Covariance Type:            nonrobust   LLR p-value:                    0.1682\n",
      "================================================================================\n",
      "                   coef    std err          z      P>|z|      [0.025      0.975]\n",
      "--------------------------------------------------------------------------------\n",
      "const          -23.8874     19.524     -1.223      0.221     -62.155      14.380\n",
      "log_n_passes     4.4240      3.614      1.224      0.221      -2.659      11.507\n",
      "================================================================================\n"
     ]
    }
   ],
   "source": [
    "df = get_win_df(features)\n",
    "fit(df, [\"log_n_passes\"], \"win\", \"binomial\")"
   ]
  },
  {
   "cell_type": "code",
   "execution_count": 9,
   "metadata": {},
   "outputs": [
    {
     "name": "stdout",
     "output_type": "stream",
     "text": [
      "Optimization terminated successfully.\n",
      "         Current function value: 0.394933\n",
      "         Iterations 8\n",
      "                           Logit Regression Results                           \n",
      "==============================================================================\n",
      "Dep. Variable:                    win   No. Observations:                   12\n",
      "Model:                          Logit   Df Residuals:                       10\n",
      "Method:                           MLE   Df Model:                            1\n",
      "Date:                Mon, 18 Dec 2023   Pseudo R-squ.:                  0.4302\n",
      "Time:                        15:43:47   Log-Likelihood:                -4.7392\n",
      "converged:                       True   LL-Null:                       -8.3178\n",
      "Covariance Type:            nonrobust   LLR p-value:                  0.007467\n",
      "==============================================================================\n",
      "                 coef    std err          z      P>|z|      [0.025      0.975]\n",
      "------------------------------------------------------------------------------\n",
      "const        -17.9745     13.762     -1.306      0.192     -44.948       8.999\n",
      "clustering    37.0475     28.535      1.298      0.194     -18.880      92.975\n",
      "==============================================================================\n"
     ]
    }
   ],
   "source": [
    "df = get_win_df(features)\n",
    "fit(df, [\"clustering\"], \"win\", \"binomial\")"
   ]
  },
  {
   "cell_type": "code",
   "execution_count": 10,
   "metadata": {},
   "outputs": [
    {
     "name": "stdout",
     "output_type": "stream",
     "text": [
      "Feature: assortativity\n",
      "Optimization terminated successfully.\n",
      "         Current function value: 0.604426\n",
      "         Iterations 6\n"
     ]
    },
    {
     "name": "stdout",
     "output_type": "stream",
     "text": [
      "                           Logit Regression Results                           \n",
      "==============================================================================\n",
      "Dep. Variable:                    win   No. Observations:                   12\n",
      "Model:                          Logit   Df Residuals:                        9\n",
      "Method:                           MLE   Df Model:                            2\n",
      "Date:                Mon, 18 Dec 2023   Pseudo R-squ.:                  0.1280\n",
      "Time:                        15:43:47   Log-Likelihood:                -7.2531\n",
      "converged:                       True   LL-Null:                       -8.3178\n",
      "Covariance Type:            nonrobust   LLR p-value:                    0.3448\n",
      "=================================================================================\n",
      "                    coef    std err          z      P>|z|      [0.025      0.975]\n",
      "---------------------------------------------------------------------------------\n",
      "const           -24.5086     19.818     -1.237      0.216     -63.351      14.334\n",
      "assortativity     2.8967      6.148      0.471      0.638      -9.153      14.946\n",
      "log_n_passes      4.5043      3.656      1.232      0.218      -2.661      11.669\n",
      "=================================================================================\n",
      "\n",
      "\n",
      "\n",
      "Feature: clustering\n",
      "Optimization terminated successfully.\n",
      "         Current function value: 0.391940\n",
      "         Iterations 8\n",
      "                           Logit Regression Results                           \n",
      "==============================================================================\n",
      "Dep. Variable:                    win   No. Observations:                   12\n",
      "Model:                          Logit   Df Residuals:                        9\n",
      "Method:                           MLE   Df Model:                            2\n",
      "Date:                Mon, 18 Dec 2023   Pseudo R-squ.:                  0.4346\n",
      "Time:                        15:43:47   Log-Likelihood:                -4.7033\n",
      "converged:                       True   LL-Null:                       -8.3178\n",
      "Covariance Type:            nonrobust   LLR p-value:                   0.02693\n",
      "================================================================================\n",
      "                   coef    std err          z      P>|z|      [0.025      0.975]\n",
      "--------------------------------------------------------------------------------\n",
      "const          -10.7608     30.163     -0.357      0.721     -69.880      48.358\n",
      "clustering      38.4009     29.558      1.299      0.194     -19.532      96.334\n",
      "log_n_passes    -1.4584      5.456     -0.267      0.789     -12.152       9.236\n",
      "================================================================================\n",
      "\n",
      "\n",
      "\n"
     ]
    }
   ],
   "source": [
    "for feature in features:\n",
    "    feature_name = feature.__name__\n",
    "    print(f\"Feature: {feature_name}\")\n",
    "    df = get_win_df(feature)\n",
    "    df.dropna(inplace=True)\n",
    "    fit(df, covariates=[feature_name] + controls[feature], target=\"win\", family=\"binomial\")\n",
    "    print(\"\\n\\n\")"
   ]
  },
  {
   "cell_type": "code",
   "execution_count": 11,
   "metadata": {},
   "outputs": [
    {
     "data": {
      "text/plain": [
       "PearsonRResult(statistic=0.7604263492028684, pvalue=0.004089658069850316)"
      ]
     },
     "execution_count": 11,
     "metadata": {},
     "output_type": "execute_result"
    }
   ],
   "source": [
    "pearsonr(df[\"clustering\"], df[\"log_n_passes\"])"
   ]
  },
  {
   "cell_type": "markdown",
   "metadata": {},
   "source": [
    "Conclusion: doesn't work (i.e. no significance). There are two possible explanations:\n",
    "- We are using too little data\n",
    "- The investigated features are not predictive\n",
    "\n",
    "We have data from six games, giving twelve data points. Hence, it would not be surprising if that is not enough data."
   ]
  },
  {
   "cell_type": "markdown",
   "metadata": {},
   "source": [
    "# Goals Scored"
   ]
  },
  {
   "cell_type": "code",
   "execution_count": 12,
   "metadata": {},
   "outputs": [],
   "source": [
    "def get_goals_df(features: List[Callable] | Callable) -> pd.DataFrame:\n",
    "    \"\"\"\n",
    "    Builds a dataframe of features for each game using the regular situations (no Power Play and Penalty Kill).\n",
    "\n",
    "    Args:\n",
    "        features (List[Callable] | Callable): features to be computed for each game\n",
    "\n",
    "    Returns:\n",
    "        pd.DataFrame: Dataframe with columns game_str, log_n_passes, win, and features\n",
    "    \"\"\"\n",
    "    if callable(features):\n",
    "        features = [features]\n",
    "    df = pd.DataFrame(\n",
    "        [\n",
    "            {\n",
    "                \"game_str\": G.name,\n",
    "                \"n_passes\": G.n_passes,\n",
    "                \"log_n_passes\": np.log(G.n_passes),\n",
    "                \"win\": G.win,\n",
    "                \"goals\": G.home_score if G.venue == Venue.HOME else G.away_score,\n",
    "            }\n",
    "            | {feature.__name__: feature(G) for feature in features}\n",
    "            for G in regular_networks()\n",
    "        ]\n",
    "    )\n",
    "    return df"
   ]
  },
  {
   "cell_type": "code",
   "execution_count": 13,
   "metadata": {},
   "outputs": [
    {
     "data": {
      "image/png": "[encoded data removed]",
      "text/plain": [
       "<Figure size 826.5x250 with 3 Axes>"
      ]
     },
     "metadata": {},
     "output_type": "display_data"
    }
   ],
   "source": [
    "df = get_goals_df(features)\n",
    "xs = [\"log_n_passes\"] + [feature.__name__ for feature in features]\n",
    "x_labels = {\"log_n_passes\": r\"$\\log(\\text{Passes})$\", \"assortativity\": \"Assortativity\", \"clustering\": \"Clustering\"}\n",
    "\n",
    "grid = sns.pairplot(\n",
    "    df,\n",
    "    x_vars=xs,\n",
    "    y_vars=[\"goals\"],\n",
    "    hue=\"n_passes\",\n",
    ")\n",
    "for x, ax in zip(xs, grid.axes[0]):\n",
    "    lm = sm.GLM(df[\"goals\"], sm.add_constant(df[x]), family=sm.families.Poisson()).fit()\n",
    "    inputs = np.linspace(df[x].min(), df[x].max(), 100)\n",
    "    sns.lineplot(\n",
    "        x=inputs,\n",
    "        y=lm.predict(sm.add_constant(inputs)),\n",
    "        ax=ax,\n",
    "        color=\"grey\",\n",
    "        **{\"lw\": 1, \"ls\": \"--\", \"alpha\": 0.35},\n",
    "    )\n",
    "    ax.legend().remove()\n",
    "    ax.set_xlabel(x_labels[x])\n",
    "    ax.set_ylabel(\"Goals\")\n",
    "\n",
    "grid.legend.set_title(\"Passes\")\n",
    "plt.savefig(\"report/images/hockey/goals_scatter.png\", dpi=600, bbox_inches=\"tight\")"
   ]
  },
  {
   "cell_type": "code",
   "execution_count": 14,
   "metadata": {},
   "outputs": [
    {
     "name": "stdout",
     "output_type": "stream",
     "text": [
      "                 Generalized Linear Model Regression Results                  \n",
      "==============================================================================\n",
      "Dep. Variable:                  goals   No. Observations:                   12\n",
      "Model:                            GLM   Df Residuals:                       10\n",
      "Model Family:                 Poisson   Df Model:                            1\n",
      "Link Function:                    Log   Scale:                          1.0000\n",
      "Method:                          IRLS   Log-Likelihood:                -24.256\n",
      "Date:                Mon, 18 Dec 2023   Deviance:                       17.866\n",
      "Time:                        15:43:52   Pearson chi2:                     14.8\n",
      "No. Iterations:                     5   Pseudo R-squ. (CS):             0.5147\n",
      "Covariance Type:            nonrobust                                         \n",
      "================================================================================\n",
      "                   coef    std err          z      P>|z|      [0.025      0.975]\n",
      "--------------------------------------------------------------------------------\n",
      "const          -11.7570      4.457     -2.638      0.008     -20.492      -3.022\n",
      "log_n_passes     2.3697      0.810      2.924      0.003       0.781       3.958\n",
      "================================================================================\n"
     ]
    }
   ],
   "source": [
    "fit(df, [\"log_n_passes\"], \"goals\", \"poisson\")"
   ]
  },
  {
   "cell_type": "code",
   "execution_count": 15,
   "metadata": {},
   "outputs": [
    {
     "name": "stdout",
     "output_type": "stream",
     "text": [
      "Feature: assortativity\n",
      "                 Generalized Linear Model Regression Results                  \n",
      "==============================================================================\n",
      "Dep. Variable:                  goals   No. Observations:                   12\n",
      "Model:                            GLM   Df Residuals:                        9\n",
      "Model Family:                 Poisson   Df Model:                            2\n",
      "Link Function:                    Log   Scale:                          1.0000\n",
      "Method:                          IRLS   Log-Likelihood:                -24.255\n",
      "Date:                Mon, 18 Dec 2023   Deviance:                       17.864\n",
      "Time:                        15:43:52   Pearson chi2:                     14.9\n",
      "No. Iterations:                     5   Pseudo R-squ. (CS):             0.5148\n",
      "Covariance Type:            nonrobust                                         \n",
      "=================================================================================\n",
      "                    coef    std err          z      P>|z|      [0.025      0.975]\n",
      "---------------------------------------------------------------------------------\n",
      "const           -11.7891      4.535     -2.599      0.009     -20.678      -2.900\n",
      "assortativity     0.0733      1.849      0.040      0.968      -3.550       3.697\n",
      "log_n_passes      2.3748      0.822      2.891      0.004       0.765       3.985\n",
      "=================================================================================\n",
      "\n",
      "\n",
      "\n",
      "Feature: clustering\n",
      "                 Generalized Linear Model Regression Results                  \n",
      "==============================================================================\n",
      "Dep. Variable:                  goals   No. Observations:                   12\n",
      "Model:                            GLM   Df Residuals:                        9\n",
      "Model Family:                 Poisson   Df Model:                            2\n",
      "Link Function:                    Log   Scale:                          1.0000\n",
      "Method:                          IRLS   Log-Likelihood:                -23.162\n",
      "Date:                Mon, 18 Dec 2023   Deviance:                       15.678\n",
      "Time:                        15:43:52   Pearson chi2:                     13.7\n",
      "No. Iterations:                     5   Pseudo R-squ. (CS):             0.5956\n",
      "Covariance Type:            nonrobust                                         \n",
      "================================================================================\n",
      "                   coef    std err          z      P>|z|      [0.025      0.975]\n",
      "--------------------------------------------------------------------------------\n",
      "const           -5.9517      5.816     -1.023      0.306     -17.351       5.448\n",
      "clustering       3.8358      2.604      1.473      0.141      -1.268       8.940\n",
      "log_n_passes     0.9411      1.243      0.757      0.449      -1.494       3.376\n",
      "================================================================================\n",
      "\n",
      "\n",
      "\n"
     ]
    }
   ],
   "source": [
    "for feature in features:\n",
    "    feature_name = feature.__name__\n",
    "    print(f\"Feature: {feature_name}\")\n",
    "    df = get_goals_df(feature)\n",
    "    df.dropna(inplace=True)\n",
    "    fit(df, covariates=[feature_name] + controls[feature], target=\"goals\", family=\"poisson\")\n",
    "    print(\"\\n\\n\")"
   ]
  },
  {
   "cell_type": "markdown",
   "metadata": {},
   "source": [
    "# Power Play Success Prediction (Goal or nah)"
   ]
  },
  {
   "cell_type": "code",
   "execution_count": 16,
   "metadata": {},
   "outputs": [],
   "source": [
    "def game_and_venue(G) -> Tuple[Game, Venue]:\n",
    "    return (G.game.game, G.venue)\n",
    "\n",
    "\n",
    "def get_pp_df(features: List[Callable] | Callable) -> pd.DataFrame:\n",
    "    \"\"\"\n",
    "    Builds a dataframe of features for each Power Play for regressing on the success of the Power Play (goal or not) or\n",
    "    the number of shots.\n",
    "\n",
    "    Args:\n",
    "        features (List[Callable] | Callable): features to be computed for each PP\n",
    "\n",
    "    Returns:\n",
    "        pd.DataFrame: Dataframe with columns game_str, log_n_passes, target, normal_feature_1, ..., normal_feature_n, pp_feature_1, ..., pp_feature_n\n",
    "    \"\"\"\n",
    "    if callable(features):\n",
    "        features = [features]\n",
    "    regular_feature_map = {game_and_venue(G): {feature: feature(G) for feature in features} for G in regular_networks()}\n",
    "    df = pd.DataFrame(\n",
    "        [\n",
    "            {\n",
    "                \"game_str\": G.name,\n",
    "                \"n_passes\": G.n_passes,\n",
    "                \"log_n_passes\": np.log(G.n_passes),\n",
    "                \"goal\": G.goal,\n",
    "                \"n_shots\": G.n_shots,\n",
    "            }\n",
    "            | {f\"normal_{feature.__name__}\": regular_feature_map[game_and_venue(G)][feature] for feature in features}\n",
    "            | {f\"pp_{feature.__name__}\": feature(G) for feature in features}\n",
    "            for G in power_play_networks()\n",
    "        ]\n",
    "    )\n",
    "    for feature in features:\n",
    "        df[f\"{feature.__name__}_diff\"] = df[f\"normal_{feature.__name__}\"] - df[f\"pp_{feature.__name__}\"]\n",
    "\n",
    "    return df"
   ]
  },
  {
   "cell_type": "code",
   "execution_count": 17,
   "metadata": {},
   "outputs": [
    {
     "name": "stderr",
     "output_type": "stream",
     "text": [
      "/home/fabio/miniconda3/envs/sn/lib/python3.10/site-packages/networkx/algorithms/assortativity/correlation.py:302: RuntimeWarning: invalid value encountered in scalar divide\n",
      "  return (xy * (M - ab)).sum() / np.sqrt(vara * varb)\n"
     ]
    },
    {
     "data": {
      "text/html": [
       "<div>\n",
       "<style scoped>\n",
       "    .dataframe tbody tr th:only-of-type {\n",
       "        vertical-align: middle;\n",
       "    }\n",
       "\n",
       "    .dataframe tbody tr th {\n",
       "        vertical-align: top;\n",
       "    }\n",
       "\n",
       "    .dataframe thead th {\n",
       "        text-align: right;\n",
       "    }\n",
       "</style>\n",
       "<table border=\"1\" class=\"dataframe\">\n",
       "  <thead>\n",
       "    <tr style=\"text-align: right;\">\n",
       "      <th></th>\n",
       "      <th>game_str</th>\n",
       "      <th>n_passes</th>\n",
       "      <th>log_n_passes</th>\n",
       "      <th>goal</th>\n",
       "      <th>n_shots</th>\n",
       "      <th>normal_assortativity</th>\n",
       "      <th>normal_clustering</th>\n",
       "      <th>pp_assortativity</th>\n",
       "      <th>pp_clustering</th>\n",
       "      <th>assortativity_diff</th>\n",
       "      <th>clustering_diff</th>\n",
       "    </tr>\n",
       "  </thead>\n",
       "  <tbody>\n",
       "    <tr>\n",
       "      <th>0</th>\n",
       "      <td>2022-02-08 Canada at USA_2_pp_home</td>\n",
       "      <td>27.0</td>\n",
       "      <td>3.295837</td>\n",
       "      <td>0</td>\n",
       "      <td>4</td>\n",
       "      <td>0.120174</td>\n",
       "      <td>0.461392</td>\n",
       "      <td>-0.441123</td>\n",
       "      <td>0.221375</td>\n",
       "      <td>0.561296</td>\n",
       "      <td>0.240017</td>\n",
       "    </tr>\n",
       "    <tr>\n",
       "      <th>1</th>\n",
       "      <td>2022-02-08 Canada at USA_3_pp_home</td>\n",
       "      <td>21.0</td>\n",
       "      <td>3.044522</td>\n",
       "      <td>0</td>\n",
       "      <td>4</td>\n",
       "      <td>0.120174</td>\n",
       "      <td>0.461392</td>\n",
       "      <td>-0.098857</td>\n",
       "      <td>0.291941</td>\n",
       "      <td>0.219031</td>\n",
       "      <td>0.169451</td>\n",
       "    </tr>\n",
       "    <tr>\n",
       "      <th>2</th>\n",
       "      <td>2022-02-08 Canada at USA_4_pp_home</td>\n",
       "      <td>15.0</td>\n",
       "      <td>2.708050</td>\n",
       "      <td>1</td>\n",
       "      <td>3</td>\n",
       "      <td>0.120174</td>\n",
       "      <td>0.461392</td>\n",
       "      <td>-0.828079</td>\n",
       "      <td>0.220036</td>\n",
       "      <td>0.948252</td>\n",
       "      <td>0.241356</td>\n",
       "    </tr>\n",
       "    <tr>\n",
       "      <th>3</th>\n",
       "      <td>2022-02-08 Canada at USA_5_pp_home</td>\n",
       "      <td>11.0</td>\n",
       "      <td>2.397895</td>\n",
       "      <td>0</td>\n",
       "      <td>2</td>\n",
       "      <td>0.120174</td>\n",
       "      <td>0.461392</td>\n",
       "      <td>0.683130</td>\n",
       "      <td>0.111614</td>\n",
       "      <td>-0.562957</td>\n",
       "      <td>0.349778</td>\n",
       "    </tr>\n",
       "    <tr>\n",
       "      <th>4</th>\n",
       "      <td>2022-02-08 Canada at USA_6_pp_home</td>\n",
       "      <td>34.0</td>\n",
       "      <td>3.526361</td>\n",
       "      <td>0</td>\n",
       "      <td>6</td>\n",
       "      <td>0.120174</td>\n",
       "      <td>0.461392</td>\n",
       "      <td>-0.282587</td>\n",
       "      <td>0.349990</td>\n",
       "      <td>0.402761</td>\n",
       "      <td>0.111402</td>\n",
       "    </tr>\n",
       "    <tr>\n",
       "      <th>5</th>\n",
       "      <td>2022-02-08 Canada at USA_1_pp_away</td>\n",
       "      <td>12.0</td>\n",
       "      <td>2.484907</td>\n",
       "      <td>1</td>\n",
       "      <td>1</td>\n",
       "      <td>-0.102773</td>\n",
       "      <td>0.474962</td>\n",
       "      <td>-0.250000</td>\n",
       "      <td>0.567420</td>\n",
       "      <td>0.147227</td>\n",
       "      <td>-0.092458</td>\n",
       "    </tr>\n",
       "    <tr>\n",
       "      <th>6</th>\n",
       "      <td>2022-02-08 ROC at Finland_4_pp_home</td>\n",
       "      <td>10.0</td>\n",
       "      <td>2.302585</td>\n",
       "      <td>1</td>\n",
       "      <td>2</td>\n",
       "      <td>0.041894</td>\n",
       "      <td>0.493256</td>\n",
       "      <td>0.213201</td>\n",
       "      <td>0.000000</td>\n",
       "      <td>-0.171307</td>\n",
       "      <td>0.493256</td>\n",
       "    </tr>\n",
       "  </tbody>\n",
       "</table>\n",
       "</div>"
      ],
      "text/plain": [
       "                              game_str  n_passes  log_n_passes  goal  n_shots  \\\n",
       "0   2022-02-08 Canada at USA_2_pp_home      27.0      3.295837     0        4   \n",
       "1   2022-02-08 Canada at USA_3_pp_home      21.0      3.044522     0        4   \n",
       "2   2022-02-08 Canada at USA_4_pp_home      15.0      2.708050     1        3   \n",
       "3   2022-02-08 Canada at USA_5_pp_home      11.0      2.397895     0        2   \n",
       "4   2022-02-08 Canada at USA_6_pp_home      34.0      3.526361     0        6   \n",
       "5   2022-02-08 Canada at USA_1_pp_away      12.0      2.484907     1        1   \n",
       "6  2022-02-08 ROC at Finland_4_pp_home      10.0      2.302585     1        2   \n",
       "\n",
       "   normal_assortativity  normal_clustering  pp_assortativity  pp_clustering  \\\n",
       "0              0.120174           0.461392         -0.441123       0.221375   \n",
       "1              0.120174           0.461392         -0.098857       0.291941   \n",
       "2              0.120174           0.461392         -0.828079       0.220036   \n",
       "3              0.120174           0.461392          0.683130       0.111614   \n",
       "4              0.120174           0.461392         -0.282587       0.349990   \n",
       "5             -0.102773           0.474962         -0.250000       0.567420   \n",
       "6              0.041894           0.493256          0.213201       0.000000   \n",
       "\n",
       "   assortativity_diff  clustering_diff  \n",
       "0            0.561296         0.240017  \n",
       "1            0.219031         0.169451  \n",
       "2            0.948252         0.241356  \n",
       "3           -0.562957         0.349778  \n",
       "4            0.402761         0.111402  \n",
       "5            0.147227        -0.092458  \n",
       "6           -0.171307         0.493256  "
      ]
     },
     "execution_count": 17,
     "metadata": {},
     "output_type": "execute_result"
    }
   ],
   "source": [
    "get_pp_df(features).head(7)"
   ]
  },
  {
   "cell_type": "code",
   "execution_count": 18,
   "metadata": {},
   "outputs": [
    {
     "name": "stderr",
     "output_type": "stream",
     "text": [
      "/home/fabio/miniconda3/envs/sn/lib/python3.10/site-packages/networkx/algorithms/assortativity/correlation.py:302: RuntimeWarning: invalid value encountered in scalar divide\n",
      "  return (xy * (M - ab)).sum() / np.sqrt(vara * varb)\n"
     ]
    },
    {
     "data": {
      "image/png": "[encoded data removed]",
      "text/plain": [
       "<Figure size 824.236x250 with 3 Axes>"
      ]
     },
     "metadata": {},
     "output_type": "display_data"
    }
   ],
   "source": [
    "df = get_pp_df(features)\n",
    "grid = sns.pairplot(\n",
    "    df, hue=\"n_passes\", x_vars=[\"log_n_passes\"] + [f\"pp_{feature.__name__}\" for feature in features], y_vars=[\"goal\"]\n",
    ")\n",
    "grid.axes[0][0].set_xlabel(r\"$\\log(\\text{Passes})$\")\n",
    "grid.axes[0][0].set_ylabel(\"Goal\")\n",
    "grid.axes[0][1].set_xlabel(\"Assortativity\")\n",
    "grid.axes[0][2].set_xlabel(\"Clustering\")\n",
    "grid.legend.set_title(\"Passes\")\n",
    "\n",
    "plt.yticks([0, 1])\n",
    "plt.savefig(\"report/images/hockey/pp_goal_scatter.png\", dpi=600, bbox_inches=\"tight\")"
   ]
  },
  {
   "cell_type": "code",
   "execution_count": 19,
   "metadata": {},
   "outputs": [
    {
     "name": "stdout",
     "output_type": "stream",
     "text": [
      "Feature: assortativity\n",
      "Optimization terminated successfully.\n",
      "         Current function value: 0.473709\n",
      "         Iterations 6\n",
      "                           Logit Regression Results                           \n",
      "==============================================================================\n",
      "Dep. Variable:                   goal   No. Observations:                   30\n",
      "Model:                          Logit   Df Residuals:                       27\n",
      "Method:                           MLE   Df Model:                            2\n",
      "Date:                Mon, 18 Dec 2023   Pseudo R-squ.:                  0.1831\n",
      "Time:                        15:43:56   Log-Likelihood:                -14.211\n",
      "converged:                       True   LL-Null:                       -17.397\n",
      "Covariance Type:            nonrobust   LLR p-value:                   0.04133\n",
      "====================================================================================\n",
      "                       coef    std err          z      P>|z|      [0.025      0.975]\n",
      "------------------------------------------------------------------------------------\n",
      "const                6.7724      3.764      1.799      0.072      -0.606      14.150\n",
      "pp_assortativity    -1.3457      1.123     -1.198      0.231      -3.547       0.856\n",
      "log_n_passes        -2.9223      1.419     -2.059      0.040      -5.704      -0.140\n",
      "====================================================================================\n",
      "\n",
      "\n",
      "\n",
      "Feature: clustering\n"
     ]
    },
    {
     "name": "stderr",
     "output_type": "stream",
     "text": [
      "/home/fabio/miniconda3/envs/sn/lib/python3.10/site-packages/networkx/algorithms/assortativity/correlation.py:302: RuntimeWarning: invalid value encountered in scalar divide\n",
      "  return (xy * (M - ab)).sum() / np.sqrt(vara * varb)\n"
     ]
    },
    {
     "name": "stdout",
     "output_type": "stream",
     "text": [
      "Optimization terminated successfully.\n",
      "         Current function value: 0.527469\n",
      "         Iterations 6\n",
      "                           Logit Regression Results                           \n",
      "==============================================================================\n",
      "Dep. Variable:                   goal   No. Observations:                   31\n",
      "Model:                          Logit   Df Residuals:                       28\n",
      "Method:                           MLE   Df Model:                            2\n",
      "Date:                Mon, 18 Dec 2023   Pseudo R-squ.:                 0.07627\n",
      "Time:                        15:43:56   Log-Likelihood:                -16.352\n",
      "converged:                       True   LL-Null:                       -17.702\n",
      "Covariance Type:            nonrobust   LLR p-value:                    0.2592\n",
      "=================================================================================\n",
      "                    coef    std err          z      P>|z|      [0.025      0.975]\n",
      "---------------------------------------------------------------------------------\n",
      "const             2.2411      2.412      0.929      0.353      -2.487       6.969\n",
      "pp_clustering     3.8068      3.869      0.984      0.325      -3.775      11.389\n",
      "log_n_passes     -1.5932      1.038     -1.534      0.125      -3.629       0.442\n",
      "=================================================================================\n",
      "\n",
      "\n",
      "\n"
     ]
    }
   ],
   "source": [
    "for feature in features:\n",
    "    feature_name = feature.__name__\n",
    "    print(f\"Feature: {feature_name}\")\n",
    "    df = get_pp_df(feature)\n",
    "    df.dropna(inplace=True)\n",
    "    covariates = [f\"pp_{feature_name}\"] + controls[feature]\n",
    "    fit(df, covariates=covariates, target=\"goal\", family=\"binomial\")\n",
    "    print(\"\\n\\n\")"
   ]
  },
  {
   "cell_type": "markdown",
   "metadata": {},
   "source": [
    "Also doesn't work."
   ]
  },
  {
   "cell_type": "markdown",
   "metadata": {},
   "source": [
    "# Predicting Number of Shots"
   ]
  },
  {
   "cell_type": "markdown",
   "metadata": {},
   "source": [
    "Let's first see if `n_passes` predicts `n_shots`."
   ]
  },
  {
   "cell_type": "code",
   "execution_count": 20,
   "metadata": {},
   "outputs": [
    {
     "name": "stdout",
     "output_type": "stream",
     "text": [
      "                 Generalized Linear Model Regression Results                  \n",
      "==============================================================================\n",
      "Dep. Variable:                n_shots   No. Observations:                   31\n",
      "Model:                            GLM   Df Residuals:                       29\n",
      "Model Family:                 Poisson   Df Model:                            1\n",
      "Link Function:                    Log   Scale:                          1.0000\n",
      "Method:                          IRLS   Log-Likelihood:                -59.081\n",
      "Date:                Mon, 18 Dec 2023   Deviance:                       35.234\n",
      "Time:                        15:43:57   Pearson chi2:                     36.3\n",
      "No. Iterations:                     4   Pseudo R-squ. (CS):             0.4820\n",
      "Covariance Type:            nonrobust                                         \n",
      "==============================================================================\n",
      "                 coef    std err          z      P>|z|      [0.025      0.975]\n",
      "------------------------------------------------------------------------------\n",
      "const          0.0099      0.283      0.035      0.972      -0.545       0.565\n",
      "n_passes       0.0563      0.012      4.583      0.000       0.032       0.080\n",
      "==============================================================================\n"
     ]
    },
    {
     "name": "stderr",
     "output_type": "stream",
     "text": [
      "/home/fabio/miniconda3/envs/sn/lib/python3.10/site-packages/networkx/algorithms/assortativity/correlation.py:302: RuntimeWarning: invalid value encountered in scalar divide\n",
      "  return (xy * (M - ab)).sum() / np.sqrt(vara * varb)\n"
     ]
    }
   ],
   "source": [
    "df = get_pp_df(features)\n",
    "fit(df, covariates=[\"n_passes\"], target=\"n_shots\", family=\"poisson\")"
   ]
  },
  {
   "cell_type": "markdown",
   "metadata": {},
   "source": [
    "It does. The number of passes is a significant predictor of the number of shots (p<0.0005). The coefficient is 0.0563, which means that all else equal, for every additional pass, we expect an increase in the number of shots by a factor of $e^{0.0563}\\approx 1.057$ (remember that we use Poisson regression).\n",
    "\n",
    "Let's see if the other network features are also predictive of the number of shots."
   ]
  },
  {
   "cell_type": "code",
   "execution_count": 21,
   "metadata": {},
   "outputs": [
    {
     "name": "stderr",
     "output_type": "stream",
     "text": [
      "/home/fabio/miniconda3/envs/sn/lib/python3.10/site-packages/networkx/algorithms/assortativity/correlation.py:302: RuntimeWarning: invalid value encountered in scalar divide\n",
      "  return (xy * (M - ab)).sum() / np.sqrt(vara * varb)\n"
     ]
    },
    {
     "data": {
      "image/png": "[encoded data removed]",
      "text/plain": [
       "<Figure size 824.236x250 with 3 Axes>"
      ]
     },
     "metadata": {},
     "output_type": "display_data"
    }
   ],
   "source": [
    "df = get_pp_df(features).dropna()\n",
    "xs = [\"log_n_passes\"] + [f\"pp_{feature.__name__}\" for feature in features]\n",
    "x_labels = {\n",
    "    \"log_n_passes\": r\"$\\log(\\text{Passes})$\",\n",
    "    \"pp_assortativity\": \"Assortativity\",\n",
    "    \"pp_clustering\": \"Clustering\",\n",
    "}\n",
    "\n",
    "grid = sns.pairplot(\n",
    "    df,\n",
    "    x_vars=xs,\n",
    "    y_vars=[\"n_shots\"],\n",
    "    hue=\"n_passes\",\n",
    ")\n",
    "for x, ax in zip(xs, grid.axes[0]):\n",
    "    lm = sm.GLM(df[\"n_shots\"], sm.add_constant(df[x]), family=sm.families.Poisson()).fit()\n",
    "    inputs = np.linspace(df[x].min(), df[x].max(), 100)\n",
    "    sns.lineplot(\n",
    "        x=inputs,\n",
    "        y=lm.predict(sm.add_constant(inputs)),\n",
    "        ax=ax,\n",
    "        color=\"grey\",\n",
    "        **{\"lw\": 1, \"ls\": \"--\", \"alpha\": 0.35},\n",
    "    )\n",
    "    ax.legend().remove()\n",
    "    ax.set_xlabel(x_labels[x])\n",
    "    ax.set_ylabel(\"Shots\")\n",
    "    # plt.yticks([0, 1])\n",
    "\n",
    "grid.legend.set_title(\"Passes\")\n",
    "plt.savefig(\"report/images/hockey/pp_shots_scatter.png\", dpi=600, bbox_inches=\"tight\")"
   ]
  },
  {
   "cell_type": "code",
   "execution_count": 22,
   "metadata": {},
   "outputs": [
    {
     "name": "stdout",
     "output_type": "stream",
     "text": [
      "                 Generalized Linear Model Regression Results                  \n",
      "==============================================================================\n",
      "Dep. Variable:                n_shots   No. Observations:                   31\n",
      "Model:                            GLM   Df Residuals:                       29\n",
      "Model Family:                 Poisson   Df Model:                            1\n",
      "Link Function:                    Log   Scale:                          1.0000\n",
      "Method:                          IRLS   Log-Likelihood:                -68.334\n",
      "Date:                Mon, 18 Dec 2023   Deviance:                       53.742\n",
      "Time:                        15:44:01   Pearson chi2:                     57.1\n",
      "No. Iterations:                     4   Pseudo R-squ. (CS):            0.05892\n",
      "Covariance Type:            nonrobust                                         \n",
      "=================================================================================\n",
      "                    coef    std err          z      P>|z|      [0.025      0.975]\n",
      "---------------------------------------------------------------------------------\n",
      "const             0.7939      0.260      3.055      0.002       0.285       1.303\n",
      "pp_clustering     1.1654      0.854      1.365      0.172      -0.508       2.839\n",
      "=================================================================================\n"
     ]
    },
    {
     "name": "stderr",
     "output_type": "stream",
     "text": [
      "/home/fabio/miniconda3/envs/sn/lib/python3.10/site-packages/networkx/algorithms/assortativity/correlation.py:302: RuntimeWarning: invalid value encountered in scalar divide\n",
      "  return (xy * (M - ab)).sum() / np.sqrt(vara * varb)\n"
     ]
    }
   ],
   "source": [
    "df = get_pp_df(features)\n",
    "fit(df, covariates=[\"pp_clustering\"], target=\"n_shots\", family=\"poisson\")"
   ]
  },
  {
   "cell_type": "code",
   "execution_count": 23,
   "metadata": {},
   "outputs": [
    {
     "name": "stderr",
     "output_type": "stream",
     "text": [
      "/home/fabio/miniconda3/envs/sn/lib/python3.10/site-packages/networkx/algorithms/assortativity/correlation.py:302: RuntimeWarning: invalid value encountered in scalar divide\n",
      "  return (xy * (M - ab)).sum() / np.sqrt(vara * varb)\n"
     ]
    },
    {
     "name": "stdout",
     "output_type": "stream",
     "text": [
      "Feature: assortativity\n",
      "                 Generalized Linear Model Regression Results                  \n",
      "==============================================================================\n",
      "Dep. Variable:                n_shots   No. Observations:                   30\n",
      "Model:                            GLM   Df Residuals:                       27\n",
      "Model Family:                 Poisson   Df Model:                            2\n",
      "Link Function:                    Log   Scale:                          1.0000\n",
      "Method:                          IRLS   Log-Likelihood:                -58.978\n",
      "Date:                Mon, 18 Dec 2023   Deviance:                       35.029\n",
      "Time:                        15:44:01   Pearson chi2:                     35.3\n",
      "No. Iterations:                     4   Pseudo R-squ. (CS):             0.3819\n",
      "Covariance Type:            nonrobust                                         \n",
      "====================================================================================\n",
      "                       coef    std err          z      P>|z|      [0.025      0.975]\n",
      "------------------------------------------------------------------------------------\n",
      "const               -1.6764      0.784     -2.139      0.032      -3.213      -0.140\n",
      "pp_assortativity    -0.0145      0.297     -0.049      0.961      -0.597       0.568\n",
      "log_n_passes         0.9721      0.263      3.696      0.000       0.457       1.488\n",
      "====================================================================================\n",
      "\n",
      "\n",
      "\n",
      "Feature: clustering\n",
      "                 Generalized Linear Model Regression Results                  \n",
      "==============================================================================\n",
      "Dep. Variable:                n_shots   No. Observations:                   31\n",
      "Model:                            GLM   Df Residuals:                       28\n",
      "Model Family:                 Poisson   Df Model:                            2\n",
      "Link Function:                    Log   Scale:                          1.0000\n",
      "Method:                          IRLS   Log-Likelihood:                -59.472\n",
      "Date:                Mon, 18 Dec 2023   Deviance:                       36.017\n",
      "Time:                        15:44:01   Pearson chi2:                     36.7\n",
      "No. Iterations:                     5   Pseudo R-squ. (CS):             0.4687\n",
      "Covariance Type:            nonrobust                                         \n",
      "=================================================================================\n",
      "                    coef    std err          z      P>|z|      [0.025      0.975]\n",
      "---------------------------------------------------------------------------------\n",
      "const            -1.8479      0.746     -2.476      0.013      -3.311      -0.385\n",
      "pp_clustering    -0.2040      1.079     -0.189      0.850      -2.318       1.910\n",
      "log_n_passes      1.0478      0.255      4.115      0.000       0.549       1.547\n",
      "=================================================================================\n",
      "\n",
      "\n",
      "\n"
     ]
    }
   ],
   "source": [
    "for feature in features:\n",
    "    feature_name = feature.__name__\n",
    "    print(f\"Feature: {feature_name}\")\n",
    "    df = get_pp_df(feature)\n",
    "    df.dropna(inplace=True)\n",
    "    covariates = [f\"pp_{feature_name}\"] + controls[feature]\n",
    "    fit(df, covariates=covariates, target=\"n_shots\", family=\"poisson\")\n",
    "    print(\"\\n\\n\")"
   ]
  },
  {
   "cell_type": "markdown",
   "metadata": {},
   "source": [
    "`assortativity` and `clustering` are also not predictive in this task.\n",
    "\n",
    "### Contrasting PP and Regular Play\n",
    "\n",
    "We can also include the features from regular play (not power play) and see if the features become more predictive by being able to look at the contrast between normal play and power play."
   ]
  },
  {
   "cell_type": "code",
   "execution_count": 24,
   "metadata": {},
   "outputs": [
    {
     "name": "stdout",
     "output_type": "stream",
     "text": [
      "Feature: assortativity\n",
      "                 Generalized Linear Model Regression Results                  \n",
      "==============================================================================\n",
      "Dep. Variable:                n_shots   No. Observations:                   30\n",
      "Model:                            GLM   Df Residuals:                       27\n",
      "Model Family:                 Poisson   Df Model:                            2\n",
      "Link Function:                    Log   Scale:                          1.0000\n",
      "Method:                          IRLS   Log-Likelihood:                -58.938\n",
      "Date:                Mon, 18 Dec 2023   Deviance:                       34.950\n",
      "Time:                        15:44:01   Pearson chi2:                     35.1\n",
      "No. Iterations:                     4   Pseudo R-squ. (CS):             0.3835\n",
      "Covariance Type:            nonrobust                                         \n",
      "======================================================================================\n",
      "                         coef    std err          z      P>|z|      [0.025      0.975]\n",
      "--------------------------------------------------------------------------------------\n",
      "const                 -1.7052      0.783     -2.177      0.030      -3.241      -0.170\n",
      "assortativity_diff    -0.0815      0.285     -0.286      0.775      -0.640       0.477\n",
      "log_n_passes           0.9885      0.264      3.741      0.000       0.471       1.506\n",
      "======================================================================================\n",
      "\n",
      "\n",
      "\n",
      "Feature: clustering\n"
     ]
    },
    {
     "name": "stderr",
     "output_type": "stream",
     "text": [
      "/home/fabio/miniconda3/envs/sn/lib/python3.10/site-packages/networkx/algorithms/assortativity/correlation.py:302: RuntimeWarning: invalid value encountered in scalar divide\n",
      "  return (xy * (M - ab)).sum() / np.sqrt(vara * varb)\n"
     ]
    },
    {
     "name": "stdout",
     "output_type": "stream",
     "text": [
      "                 Generalized Linear Model Regression Results                  \n",
      "==============================================================================\n",
      "Dep. Variable:                n_shots   No. Observations:                   31\n",
      "Model:                            GLM   Df Residuals:                       28\n",
      "Model Family:                 Poisson   Df Model:                            2\n",
      "Link Function:                    Log   Scale:                          1.0000\n",
      "Method:                          IRLS   Log-Likelihood:                -59.320\n",
      "Date:                Mon, 18 Dec 2023   Deviance:                       35.713\n",
      "Time:                        15:44:01   Pearson chi2:                     37.1\n",
      "No. Iterations:                     4   Pseudo R-squ. (CS):             0.4739\n",
      "Covariance Type:            nonrobust                                         \n",
      "===================================================================================\n",
      "                      coef    std err          z      P>|z|      [0.025      0.975]\n",
      "-----------------------------------------------------------------------------------\n",
      "const              -1.9340      0.741     -2.609      0.009      -3.387      -0.481\n",
      "clustering_diff     0.3929      0.671      0.586      0.558      -0.921       1.707\n",
      "log_n_passes        1.0275      0.243      4.224      0.000       0.551       1.504\n",
      "===================================================================================\n",
      "\n",
      "\n",
      "\n"
     ]
    }
   ],
   "source": [
    "for feature in features:\n",
    "    feature_name = feature.__name__\n",
    "    print(f\"Feature: {feature_name}\")\n",
    "    df = get_pp_df(feature)\n",
    "    df.dropna(inplace=True)\n",
    "    covariates = [f\"{feature_name}_diff\"] + controls[feature]\n",
    "    fit(df, covariates=covariates, target=\"n_shots\", family=\"poisson\")\n",
    "    print(\"\\n\\n\")"
   ]
  }
 ],
 "metadata": {
  "kernelspec": {
   "display_name": "sn",
   "language": "python",
   "name": "python3"
  },
  "language_info": {
   "codemirror_mode": {
    "name": "ipython",
    "version": 3
   },
   "file_extension": ".py",
   "mimetype": "text/x-python",
   "name": "python",
   "nbconvert_exporter": "python",
   "pygments_lexer": "ipython3",
   "version": "3.10.13"
  }
 },
 "nbformat": 4,
 "nbformat_minor": 2
}
