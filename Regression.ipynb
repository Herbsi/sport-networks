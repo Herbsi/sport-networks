{
 "cells": [
  {
   "cell_type": "code",
   "execution_count": null,
   "metadata": {},
   "outputs": [],
   "source": [
    "from typing import Callable, List, Tuple\n",
    "\n",
    "import matplotlib.pyplot as plt\n",
    "import numpy as np\n",
    "import pandas as pd\n",
    "import seaborn as sns\n",
    "import statsmodels.api as sm\n",
    "from scipy.stats import pearsonr\n",
    "\n",
    "import network\n",
    "from network import Weight\n",
    "from preprocess_data import Game, PowerPlay, Situation, Venue, read_networks"
   ]
  },
  {
   "cell_type": "code",
   "execution_count": null,
   "metadata": {},
   "outputs": [],
   "source": [
    "def regular_networks():\n",
    "    return read_networks(Situation.REGULAR)\n",
    "\n",
    "\n",
    "def power_play_networks():\n",
    "    return read_networks(Situation.POWER_PLAY)\n",
    "\n",
    "\n",
    "def penalty_kill_networks():\n",
    "    return read_networks(Situation.PENALTY_KILL)"
   ]
  },
  {
   "cell_type": "code",
   "execution_count": null,
   "metadata": {},
   "outputs": [],
   "source": [
    "def fit(df: pd.DataFrame, covariates: List[str], target: str, family: str = \"binomial\"):\n",
    "    X = df[covariates]\n",
    "    X = sm.add_constant(X)\n",
    "    y = df[target]\n",
    "    match family:\n",
    "        case \"binomial\":\n",
    "            model = sm.Logit(y, X)\n",
    "        case \"poisson\":\n",
    "            model = sm.GLM(y, X, family=sm.families.Poisson())\n",
    "        case \"gaussian\":\n",
    "            model = sm.OLS(y, X)\n",
    "        case _:\n",
    "            raise ValueError(f\"{family} regression not implemented\")\n",
    "    res = model.fit()\n",
    "    print(res.summary())"
   ]
  },
  {
   "cell_type": "markdown",
   "metadata": {},
   "source": [
    "# Match Outcome Prediction"
   ]
  },
  {
   "cell_type": "code",
   "execution_count": null,
   "metadata": {},
   "outputs": [],
   "source": [
    "def get_win_df(features: List[Callable] | Callable) -> pd.DataFrame:\n",
    "    \"\"\"\n",
    "    Builds a dataframe of features for each game using the regular situations (no Power Play and Penalty Kill).\n",
    "\n",
    "    Args:\n",
    "        features (List[Callable] | Callable): features to be computed for each game\n",
    "\n",
    "    Returns:\n",
    "        pd.DataFrame: Dataframe with columns game_str, log_n_passes, win, and features\n",
    "    \"\"\"\n",
    "    if callable(features):\n",
    "        features = [features]\n",
    "    df = pd.DataFrame(\n",
    "        [\n",
    "            {\"game_str\": G.name, \"n_passes\": G.n_passes, \"log_n_passes\": np.log(G.n_passes), \"win\": G.win}\n",
    "            | {feature.__name__: feature(G) for feature in features}\n",
    "            for G in regular_networks()\n",
    "        ]\n",
    "    )\n",
    "    return df"
   ]
  },
  {
   "cell_type": "code",
   "execution_count": null,
   "metadata": {},
   "outputs": [],
   "source": [
    "features = [\n",
    "    network.assortativity,\n",
    "    network.clustering,\n",
    "    network.degree_mean,\n",
    "    network.degree_std,\n",
    "]\n",
    "df = get_win_df(features)\n",
    "df"
   ]
  },
  {
   "cell_type": "markdown",
   "metadata": {},
   "source": [
    "We control for number of total passes as in the paper. For degree_mean however, it doesn't make sense to control for number of passes. Indeed, `degree_mean` $=2n^{-1}$ `n_passes` and they are thus highly correlated."
   ]
  },
  {
   "cell_type": "code",
   "execution_count": null,
   "metadata": {},
   "outputs": [],
   "source": [
    "pearsonr(df[\"n_passes\"], df[\"degree_mean\"]).statistic"
   ]
  },
  {
   "cell_type": "markdown",
   "metadata": {},
   "source": [
    "It would not be surprising if `degree_std` also was highly correlated with `n_passes` as we are dealing with non-negative count data (number of passes). However:"
   ]
  },
  {
   "cell_type": "code",
   "execution_count": null,
   "metadata": {},
   "outputs": [],
   "source": [
    "pearsonr(df[\"n_passes\"], df[\"degree_std\"]).statistic"
   ]
  },
  {
   "cell_type": "code",
   "execution_count": null,
   "metadata": {},
   "outputs": [],
   "source": [
    "controls = {\n",
    "    network.assortativity: [\"log_n_passes\"],\n",
    "    network.clustering: [\"log_n_passes\"],\n",
    "    network.degree_mean: [],\n",
    "    network.degree_std: [\"log_n_passes\"],\n",
    "}"
   ]
  },
  {
   "cell_type": "markdown",
   "metadata": {},
   "source": [
    "We don't look at connectivity ($\\gamma$) and number of strongly connected components ($\\sigma$) because our networks are all regular. "
   ]
  },
  {
   "cell_type": "code",
   "execution_count": null,
   "metadata": {},
   "outputs": [],
   "source": [
    "for feature in features:\n",
    "    feature_name = feature.__name__\n",
    "    print(f\"Feature: {feature_name}\")\n",
    "    df = get_win_df(feature)\n",
    "    df.dropna(inplace=True)\n",
    "    fit(df, covariates=[feature_name] + controls[feature], target=\"win\", family=\"binomial\")\n",
    "    print(\"\\n\\n\")"
   ]
  },
  {
   "cell_type": "markdown",
   "metadata": {},
   "source": [
    "Conclusion: doesn't work. There are two possible explanations:\n",
    "- We are using too little data\n",
    "- The investigated features are not predictive\n",
    "\n",
    "We have data from six games, giving twelve data points. Hence, it would not be surprising if that is not enough data."
   ]
  },
  {
   "cell_type": "markdown",
   "metadata": {},
   "source": [
    "# Power Play Success Prediction (Goal or nah)"
   ]
  },
  {
   "cell_type": "code",
   "execution_count": null,
   "metadata": {},
   "outputs": [],
   "source": [
    "def game_and_venue(G) -> Tuple[Game, Venue]:\n",
    "    return (G.game.game, G.venue)\n",
    "\n",
    "\n",
    "def get_pp_df(features: List[Callable] | Callable) -> pd.DataFrame:\n",
    "    \"\"\"\n",
    "    Builds a dataframe of features for each Power Play for regressing on the success of the Power Play (goal or not) or\n",
    "    the number of shots.\n",
    "\n",
    "    Args:\n",
    "        features (List[Callable] | Callable): features to be computed for each PP\n",
    "\n",
    "    Returns:\n",
    "        pd.DataFrame: Dataframe with columns game_str, log_n_passes, target, normal_feature_1, ..., normal_feature_n, pp_feature_1, ..., pp_feature_n\n",
    "    \"\"\"\n",
    "    if callable(features):\n",
    "        features = [features]\n",
    "    regular_feature_map = {game_and_venue(G): {feature: feature(G) for feature in features} for G in regular_networks()}\n",
    "    df = pd.DataFrame(\n",
    "        [\n",
    "            {\n",
    "                \"game_str\": G.name,\n",
    "                \"n_passes\": G.n_passes,\n",
    "                \"log_n_passes\": np.log(G.n_passes),\n",
    "                \"goal\": G.goal,\n",
    "                \"n_shots\": G.n_shots,\n",
    "            }\n",
    "            | {f\"normal_{feature.__name__}\": regular_feature_map[game_and_venue(G)][feature] for feature in features}\n",
    "            | {f\"pp_{feature.__name__}\": feature(G) for feature in features}\n",
    "            for G in power_play_networks()\n",
    "        ]\n",
    "    )\n",
    "    return df"
   ]
  },
  {
   "cell_type": "code",
   "execution_count": null,
   "metadata": {},
   "outputs": [],
   "source": [
    "get_pp_df(features).head(7)"
   ]
  },
  {
   "cell_type": "code",
   "execution_count": null,
   "metadata": {},
   "outputs": [],
   "source": [
    "for feature in features:\n",
    "    feature_name = feature.__name__\n",
    "    print(f\"Feature: {feature_name}\")\n",
    "    df = get_pp_df(feature)\n",
    "    df.dropna(inplace=True)\n",
    "    covariates = [f\"normal_{feature_name}\", f\"pp_{feature_name}\"] + controls[feature]\n",
    "    fit(df, covariates=covariates, target=\"goal\", family=\"binomial\")\n",
    "    print(\"\\n\\n\")"
   ]
  },
  {
   "cell_type": "markdown",
   "metadata": {},
   "source": [
    "Also doesn't work."
   ]
  },
  {
   "cell_type": "markdown",
   "metadata": {},
   "source": [
    "# Predicting Number of Shots"
   ]
  },
  {
   "cell_type": "markdown",
   "metadata": {},
   "source": [
    "Let's first see if `n_passes` predicts `n_shots`."
   ]
  },
  {
   "cell_type": "code",
   "execution_count": null,
   "metadata": {},
   "outputs": [],
   "source": [
    "df = get_pp_df(features)\n",
    "fit(df, covariates=[\"n_passes\"], target=\"n_shots\", family=\"poisson\")"
   ]
  },
  {
   "cell_type": "markdown",
   "metadata": {},
   "source": [
    "It does. The number of passes is a significant predictor of the number of shots (p<0.0005). The coefficient is 0.0563, which means that all else equal, for every additional pass, we expect an increase in the number of shots by a factor of $e^{0.0563}\\approx 0.057$ (remember that we use Poisson regression). This means for every ~18 passes a team will have an extra shot.\n",
    "\n",
    "Let's see if the other network features are also predictive of the number of shots."
   ]
  },
  {
   "cell_type": "code",
   "execution_count": null,
   "metadata": {},
   "outputs": [],
   "source": [
    "for feature in features:\n",
    "    feature_name = feature.__name__\n",
    "    print(f\"Feature: {feature_name}\")\n",
    "    df = get_pp_df(feature)\n",
    "    df.dropna(inplace=True)\n",
    "    covariates = [f\"pp_{feature_name}\"] + controls[feature]\n",
    "    fit(df, covariates=covariates, target=\"n_shots\", family=\"poisson\")\n",
    "    print(\"\\n\\n\")"
   ]
  },
  {
   "cell_type": "markdown",
   "metadata": {},
   "source": [
    "`degree_mean` is a significant predictor of `n_shots`. This is not surprising given the above as `degree_mean` is highly correlated with `n_passes`.\n",
    "\n",
    "On the other hand, `assortativity` and `clustering` are also not predictive in this task.\n",
    "\n",
    "We can also include the features from regular play (not power play) and see if the features become more predictive by being able to look at the contrast between normal play and power play."
   ]
  },
  {
   "cell_type": "code",
   "execution_count": null,
   "metadata": {},
   "outputs": [],
   "source": [
    "for feature in features:\n",
    "    feature_name = feature.__name__\n",
    "    print(f\"Feature: {feature_name}\")\n",
    "    df = get_pp_df(feature)\n",
    "    df.dropna(inplace=True)\n",
    "    covariates = [f\"normal_{feature_name}\", f\"pp_{feature_name}\"] + controls[feature]\n",
    "    fit(df, covariates=covariates, target=\"n_shots\", family=\"poisson\")\n",
    "    print(\"\\n\\n\")"
   ]
  }
 ],
 "metadata": {
  "kernelspec": {
   "display_name": "sn",
   "language": "python",
   "name": "python3"
  },
  "language_info": {
   "codemirror_mode": {
    "name": "ipython",
    "version": 3
   },
   "file_extension": ".py",
   "mimetype": "text/x-python",
   "name": "python",
   "nbconvert_exporter": "python",
   "pygments_lexer": "ipython3",
   "version": "3.10.13"
  }
 },
 "nbformat": 4,
 "nbformat_minor": 2
}
