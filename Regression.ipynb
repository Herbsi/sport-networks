{
 "cells": [
  {
   "cell_type": "code",
   "execution_count": 1,
   "metadata": {},
   "outputs": [],
   "source": [
    "from typing import Callable, List, Tuple\n",
    "\n",
    "import matplotlib.pyplot as plt\n",
    "import numpy as np\n",
    "import pandas as pd\n",
    "import seaborn as sns\n",
    "import statsmodels.api as sm\n",
    "from scipy.stats import pearsonr\n",
    "\n",
    "import network\n",
    "from network import Weight\n",
    "from preprocess_data import Game, PowerPlay, Situation, Venue, read_networks"
   ]
  },
  {
   "cell_type": "code",
   "execution_count": 2,
   "metadata": {},
   "outputs": [],
   "source": [
    "def regular_networks():\n",
    "    return read_networks(Situation.REGULAR)\n",
    "\n",
    "\n",
    "def power_play_networks():\n",
    "    return read_networks(Situation.POWER_PLAY)\n",
    "\n",
    "\n",
    "def penalty_kill_networks():\n",
    "    return read_networks(Situation.PENALTY_KILL)"
   ]
  },
  {
   "cell_type": "code",
   "execution_count": 3,
   "metadata": {},
   "outputs": [],
   "source": [
    "def fit(df: pd.DataFrame, covariates: List[str], target: str, family: str = \"binomial\"):\n",
    "    X = df[covariates]\n",
    "    X = sm.add_constant(X)\n",
    "    y = df[target]\n",
    "    match family:\n",
    "        case \"binomial\":\n",
    "            model = sm.Logit(y, X)\n",
    "        case \"poisson\":\n",
    "            model = sm.GLM(y, X, family=sm.families.Poisson())\n",
    "        case \"gaussian\":\n",
    "            model = sm.OLS(y, X)\n",
    "        case _:\n",
    "            raise ValueError(f\"{family} regression not implemented\")\n",
    "    res = model.fit()\n",
    "    print(res.summary())"
   ]
  },
  {
   "cell_type": "markdown",
   "metadata": {},
   "source": [
    "# Match Outcome Prediction"
   ]
  },
  {
   "cell_type": "code",
   "execution_count": 4,
   "metadata": {},
   "outputs": [],
   "source": [
    "def get_win_df(features: List[Callable] | Callable) -> pd.DataFrame:\n",
    "    \"\"\"\n",
    "    Builds a dataframe of features for each game using the regular situations (no Power Play and Penalty Kill).\n",
    "\n",
    "    Args:\n",
    "        features (List[Callable] | Callable): features to be computed for each game\n",
    "\n",
    "    Returns:\n",
    "        pd.DataFrame: Dataframe with columns game_str, log_n_passes, win, and features\n",
    "    \"\"\"\n",
    "    if callable(features):\n",
    "        features = [features]\n",
    "    df = pd.DataFrame(\n",
    "        [\n",
    "            {\"game_str\": G.name, \"n_passes\": G.n_passes, \"log_n_passes\": np.log(G.n_passes), \"win\": G.win}\n",
    "            | {feature.__name__: feature(G) for feature in features}\n",
    "            for G in regular_networks()\n",
    "        ]\n",
    "    )\n",
    "    return df"
   ]
  },
  {
   "cell_type": "code",
   "execution_count": 5,
   "metadata": {},
   "outputs": [
    {
     "data": {
      "text/html": [
       "<div>\n",
       "<style scoped>\n",
       "    .dataframe tbody tr th:only-of-type {\n",
       "        vertical-align: middle;\n",
       "    }\n",
       "\n",
       "    .dataframe tbody tr th {\n",
       "        vertical-align: top;\n",
       "    }\n",
       "\n",
       "    .dataframe thead th {\n",
       "        text-align: right;\n",
       "    }\n",
       "</style>\n",
       "<table border=\"1\" class=\"dataframe\">\n",
       "  <thead>\n",
       "    <tr style=\"text-align: right;\">\n",
       "      <th></th>\n",
       "      <th>game_str</th>\n",
       "      <th>n_passes</th>\n",
       "      <th>log_n_passes</th>\n",
       "      <th>win</th>\n",
       "      <th>assortativity</th>\n",
       "      <th>clustering</th>\n",
       "      <th>degree_mean</th>\n",
       "      <th>degree_std</th>\n",
       "    </tr>\n",
       "  </thead>\n",
       "  <tbody>\n",
       "    <tr>\n",
       "      <th>0</th>\n",
       "      <td>2022-02-08 Canada at USA_reg_home</td>\n",
       "      <td>216.0</td>\n",
       "      <td>5.375278</td>\n",
       "      <td>0</td>\n",
       "      <td>0.120174</td>\n",
       "      <td>0.461392</td>\n",
       "      <td>82.8</td>\n",
       "      <td>11.052602</td>\n",
       "    </tr>\n",
       "    <tr>\n",
       "      <th>1</th>\n",
       "      <td>2022-02-08 Canada at USA_reg_away</td>\n",
       "      <td>185.0</td>\n",
       "      <td>5.220356</td>\n",
       "      <td>1</td>\n",
       "      <td>-0.102773</td>\n",
       "      <td>0.474962</td>\n",
       "      <td>69.6</td>\n",
       "      <td>14.595890</td>\n",
       "    </tr>\n",
       "    <tr>\n",
       "      <th>2</th>\n",
       "      <td>2022-02-08 ROC at Finland_reg_home</td>\n",
       "      <td>265.0</td>\n",
       "      <td>5.579730</td>\n",
       "      <td>1</td>\n",
       "      <td>0.041894</td>\n",
       "      <td>0.493256</td>\n",
       "      <td>98.8</td>\n",
       "      <td>13.658697</td>\n",
       "    </tr>\n",
       "    <tr>\n",
       "      <th>3</th>\n",
       "      <td>2022-02-08 ROC at Finland_reg_away</td>\n",
       "      <td>200.0</td>\n",
       "      <td>5.298317</td>\n",
       "      <td>0</td>\n",
       "      <td>-0.120709</td>\n",
       "      <td>0.389216</td>\n",
       "      <td>74.4</td>\n",
       "      <td>20.867199</td>\n",
       "    </tr>\n",
       "    <tr>\n",
       "      <th>4</th>\n",
       "      <td>2022-02-12 Switzerland at ROC_reg_home</td>\n",
       "      <td>266.0</td>\n",
       "      <td>5.583496</td>\n",
       "      <td>0</td>\n",
       "      <td>-0.026035</td>\n",
       "      <td>0.497432</td>\n",
       "      <td>102.0</td>\n",
       "      <td>14.532722</td>\n",
       "    </tr>\n",
       "    <tr>\n",
       "      <th>5</th>\n",
       "      <td>2022-02-12 Switzerland at ROC_reg_away</td>\n",
       "      <td>212.0</td>\n",
       "      <td>5.356586</td>\n",
       "      <td>1</td>\n",
       "      <td>0.211820</td>\n",
       "      <td>0.476648</td>\n",
       "      <td>78.0</td>\n",
       "      <td>6.033241</td>\n",
       "    </tr>\n",
       "    <tr>\n",
       "      <th>6</th>\n",
       "      <td>2022-02-14 Switzerland at Canada_reg_home</td>\n",
       "      <td>331.0</td>\n",
       "      <td>5.802118</td>\n",
       "      <td>1</td>\n",
       "      <td>0.028629</td>\n",
       "      <td>0.674079</td>\n",
       "      <td>127.2</td>\n",
       "      <td>11.754148</td>\n",
       "    </tr>\n",
       "    <tr>\n",
       "      <th>7</th>\n",
       "      <td>2022-02-14 Switzerland at Canada_reg_away</td>\n",
       "      <td>147.0</td>\n",
       "      <td>4.990433</td>\n",
       "      <td>0</td>\n",
       "      <td>0.030374</td>\n",
       "      <td>0.296738</td>\n",
       "      <td>55.2</td>\n",
       "      <td>14.824304</td>\n",
       "    </tr>\n",
       "    <tr>\n",
       "      <th>8</th>\n",
       "      <td>2022-02-14 USA at Finland_reg_home</td>\n",
       "      <td>239.0</td>\n",
       "      <td>5.476464</td>\n",
       "      <td>0</td>\n",
       "      <td>0.077702</td>\n",
       "      <td>0.432872</td>\n",
       "      <td>89.2</td>\n",
       "      <td>16.375592</td>\n",
       "    </tr>\n",
       "    <tr>\n",
       "      <th>9</th>\n",
       "      <td>2022-02-14 USA at Finland_reg_away</td>\n",
       "      <td>220.0</td>\n",
       "      <td>5.393628</td>\n",
       "      <td>1</td>\n",
       "      <td>0.184663</td>\n",
       "      <td>0.563418</td>\n",
       "      <td>85.2</td>\n",
       "      <td>6.144917</td>\n",
       "    </tr>\n",
       "    <tr>\n",
       "      <th>10</th>\n",
       "      <td>2022-02-16 Switzerland at Finland_reg_home</td>\n",
       "      <td>247.0</td>\n",
       "      <td>5.509388</td>\n",
       "      <td>1</td>\n",
       "      <td>0.052865</td>\n",
       "      <td>0.631711</td>\n",
       "      <td>93.6</td>\n",
       "      <td>10.071743</td>\n",
       "    </tr>\n",
       "    <tr>\n",
       "      <th>11</th>\n",
       "      <td>2022-02-16 Switzerland at Finland_reg_away</td>\n",
       "      <td>182.0</td>\n",
       "      <td>5.204007</td>\n",
       "      <td>0</td>\n",
       "      <td>0.181087</td>\n",
       "      <td>0.495652</td>\n",
       "      <td>66.4</td>\n",
       "      <td>10.707007</td>\n",
       "    </tr>\n",
       "  </tbody>\n",
       "</table>\n",
       "</div>"
      ],
      "text/plain": [
       "                                      game_str  n_passes  log_n_passes  win  \\\n",
       "0            2022-02-08 Canada at USA_reg_home     216.0      5.375278    0   \n",
       "1            2022-02-08 Canada at USA_reg_away     185.0      5.220356    1   \n",
       "2           2022-02-08 ROC at Finland_reg_home     265.0      5.579730    1   \n",
       "3           2022-02-08 ROC at Finland_reg_away     200.0      5.298317    0   \n",
       "4       2022-02-12 Switzerland at ROC_reg_home     266.0      5.583496    0   \n",
       "5       2022-02-12 Switzerland at ROC_reg_away     212.0      5.356586    1   \n",
       "6    2022-02-14 Switzerland at Canada_reg_home     331.0      5.802118    1   \n",
       "7    2022-02-14 Switzerland at Canada_reg_away     147.0      4.990433    0   \n",
       "8           2022-02-14 USA at Finland_reg_home     239.0      5.476464    0   \n",
       "9           2022-02-14 USA at Finland_reg_away     220.0      5.393628    1   \n",
       "10  2022-02-16 Switzerland at Finland_reg_home     247.0      5.509388    1   \n",
       "11  2022-02-16 Switzerland at Finland_reg_away     182.0      5.204007    0   \n",
       "\n",
       "    assortativity  clustering  degree_mean  degree_std  \n",
       "0        0.120174    0.461392         82.8   11.052602  \n",
       "1       -0.102773    0.474962         69.6   14.595890  \n",
       "2        0.041894    0.493256         98.8   13.658697  \n",
       "3       -0.120709    0.389216         74.4   20.867199  \n",
       "4       -0.026035    0.497432        102.0   14.532722  \n",
       "5        0.211820    0.476648         78.0    6.033241  \n",
       "6        0.028629    0.674079        127.2   11.754148  \n",
       "7        0.030374    0.296738         55.2   14.824304  \n",
       "8        0.077702    0.432872         89.2   16.375592  \n",
       "9        0.184663    0.563418         85.2    6.144917  \n",
       "10       0.052865    0.631711         93.6   10.071743  \n",
       "11       0.181087    0.495652         66.4   10.707007  "
      ]
     },
     "execution_count": 5,
     "metadata": {},
     "output_type": "execute_result"
    }
   ],
   "source": [
    "features = [\n",
    "    network.assortativity,\n",
    "    network.clustering,\n",
    "    network.degree_mean,\n",
    "    network.degree_std,\n",
    "]\n",
    "df = get_win_df(features)\n",
    "df"
   ]
  },
  {
   "cell_type": "code",
   "execution_count": 6,
   "metadata": {},
   "outputs": [
    {
     "data": {
      "text/plain": [
       "<seaborn.axisgrid.PairGrid at 0x7f4fa213fc40>"
      ]
     },
     "execution_count": 6,
     "metadata": {},
     "output_type": "execute_result"
    },
    {
     "data": {
      "image/png": "[encoded data removed]",
      "text/plain": [
       "<Figure size 1000x250 with 4 Axes>"
      ]
     },
     "metadata": {},
     "output_type": "display_data"
    }
   ],
   "source": [
    "df = get_win_df(features)\n",
    "sns.pairplot(df, x_vars=[feature.__name__ for feature in features], y_vars=[\"win\"])"
   ]
  },
  {
   "cell_type": "markdown",
   "metadata": {},
   "source": [
    "We control for number of total passes as in the paper. For degree_mean however, it doesn't make sense to control for number of passes. Indeed, `degree_mean` $=2n^{-1}$ `n_passes` and they are thus highly correlated."
   ]
  },
  {
   "cell_type": "code",
   "execution_count": 7,
   "metadata": {},
   "outputs": [
    {
     "data": {
      "text/plain": [
       "0.9974096426196961"
      ]
     },
     "execution_count": 7,
     "metadata": {},
     "output_type": "execute_result"
    }
   ],
   "source": [
    "pearsonr(df[\"n_passes\"], df[\"degree_mean\"]).statistic"
   ]
  },
  {
   "cell_type": "markdown",
   "metadata": {},
   "source": [
    "It would not be surprising if `degree_std` also was highly correlated with `n_passes` as we are dealing with non-negative count data (number of passes). However:"
   ]
  },
  {
   "cell_type": "code",
   "execution_count": 8,
   "metadata": {},
   "outputs": [
    {
     "data": {
      "text/plain": [
       "-0.09744830556652813"
      ]
     },
     "execution_count": 8,
     "metadata": {},
     "output_type": "execute_result"
    }
   ],
   "source": [
    "pearsonr(df[\"n_passes\"], df[\"degree_std\"]).statistic"
   ]
  },
  {
   "cell_type": "code",
   "execution_count": 9,
   "metadata": {},
   "outputs": [],
   "source": [
    "controls = {\n",
    "    network.assortativity: [\"log_n_passes\"],\n",
    "    network.clustering: [\"log_n_passes\"],\n",
    "    network.degree_mean: [],\n",
    "    network.degree_std: [\"log_n_passes\"],\n",
    "}"
   ]
  },
  {
   "cell_type": "markdown",
   "metadata": {},
   "source": [
    "We don't look at connectivity ($\\gamma$) and number of strongly connected components ($\\sigma$) because our networks are all regular. "
   ]
  },
  {
   "cell_type": "code",
   "execution_count": 10,
   "metadata": {},
   "outputs": [
    {
     "name": "stdout",
     "output_type": "stream",
     "text": [
      "Feature: assortativity\n",
      "Optimization terminated successfully.\n",
      "         Current function value: 0.604426\n",
      "         Iterations 6\n",
      "                           Logit Regression Results                           \n",
      "==============================================================================\n",
      "Dep. Variable:                    win   No. Observations:                   12\n",
      "Model:                          Logit   Df Residuals:                        9\n",
      "Method:                           MLE   Df Model:                            2\n",
      "Date:                Mon, 11 Dec 2023   Pseudo R-squ.:                  0.1280\n",
      "Time:                        00:46:18   Log-Likelihood:                -7.2531\n",
      "converged:                       True   LL-Null:                       -8.3178\n",
      "Covariance Type:            nonrobust   LLR p-value:                    0.3448\n",
      "=================================================================================\n",
      "                    coef    std err          z      P>|z|      [0.025      0.975]\n",
      "---------------------------------------------------------------------------------\n",
      "const           -24.5086     19.818     -1.237      0.216     -63.351      14.334\n",
      "assortativity     2.8967      6.148      0.471      0.638      -9.153      14.946\n",
      "log_n_passes      4.5043      3.656      1.232      0.218      -2.661      11.669\n",
      "=================================================================================\n",
      "\n",
      "\n",
      "\n",
      "Feature: clustering\n",
      "Optimization terminated successfully.\n",
      "         Current function value: 0.391940\n",
      "         Iterations 8\n",
      "                           Logit Regression Results                           \n",
      "==============================================================================\n",
      "Dep. Variable:                    win   No. Observations:                   12\n",
      "Model:                          Logit   Df Residuals:                        9\n",
      "Method:                           MLE   Df Model:                            2\n",
      "Date:                Mon, 11 Dec 2023   Pseudo R-squ.:                  0.4346\n",
      "Time:                        00:46:18   Log-Likelihood:                -4.7033\n",
      "converged:                       True   LL-Null:                       -8.3178\n",
      "Covariance Type:            nonrobust   LLR p-value:                   0.02693\n",
      "================================================================================\n",
      "                   coef    std err          z      P>|z|      [0.025      0.975]\n",
      "--------------------------------------------------------------------------------\n",
      "const          -10.7608     30.163     -0.357      0.721     -69.880      48.358\n",
      "clustering      38.4009     29.558      1.299      0.194     -19.532      96.334\n",
      "log_n_passes    -1.4584      5.456     -0.267      0.789     -12.152       9.236\n",
      "================================================================================\n",
      "\n",
      "\n",
      "\n",
      "Feature: degree_mean\n",
      "Optimization terminated successfully.\n",
      "         Current function value: 0.615952\n",
      "         Iterations 5\n",
      "                           Logit Regression Results                           \n",
      "==============================================================================\n",
      "Dep. Variable:                    win   No. Observations:                   12\n",
      "Model:                          Logit   Df Residuals:                       10\n",
      "Method:                           MLE   Df Model:                            1\n",
      "Date:                Mon, 11 Dec 2023   Pseudo R-squ.:                  0.1114\n",
      "Time:                        00:46:18   Log-Likelihood:                -7.3914\n",
      "converged:                       True   LL-Null:                       -8.3178\n",
      "Covariance Type:            nonrobust   LLR p-value:                    0.1735\n",
      "===============================================================================\n",
      "                  coef    std err          z      P>|z|      [0.025      0.975]\n",
      "-------------------------------------------------------------------------------\n",
      "const          -4.1702      3.499     -1.192      0.233     -11.028       2.687\n",
      "degree_mean     0.0492      0.041      1.201      0.230      -0.031       0.130\n",
      "===============================================================================\n",
      "\n",
      "\n",
      "\n",
      "Feature: degree_std\n",
      "Optimization terminated successfully.\n",
      "         Current function value: 0.454010\n",
      "         Iterations 7\n",
      "                           Logit Regression Results                           \n",
      "==============================================================================\n",
      "Dep. Variable:                    win   No. Observations:                   12\n",
      "Model:                          Logit   Df Residuals:                        9\n",
      "Method:                           MLE   Df Model:                            2\n",
      "Date:                Mon, 11 Dec 2023   Pseudo R-squ.:                  0.3450\n",
      "Time:                        00:46:18   Log-Likelihood:                -5.4481\n",
      "converged:                       True   LL-Null:                       -8.3178\n",
      "Covariance Type:            nonrobust   LLR p-value:                   0.05672\n",
      "================================================================================\n",
      "                   coef    std err          z      P>|z|      [0.025      0.975]\n",
      "--------------------------------------------------------------------------------\n",
      "const          -20.4558     23.099     -0.886      0.376     -65.728      24.817\n",
      "degree_std      -0.3924      0.259     -1.513      0.130      -0.901       0.116\n",
      "log_n_passes     4.6767      4.302      1.087      0.277      -3.756      13.109\n",
      "================================================================================\n",
      "\n",
      "\n",
      "\n"
     ]
    }
   ],
   "source": [
    "for feature in features:\n",
    "    feature_name = feature.__name__\n",
    "    print(f\"Feature: {feature_name}\")\n",
    "    df = get_win_df(feature)\n",
    "    df.dropna(inplace=True)\n",
    "    fit(df, covariates=[feature_name] + controls[feature], target=\"win\", family=\"binomial\")\n",
    "    print(\"\\n\\n\")"
   ]
  },
  {
   "cell_type": "markdown",
   "metadata": {},
   "source": [
    "Conclusion: doesn't work. There are two possible explanations:\n",
    "- We are using too little data\n",
    "- The investigated features are not predictive\n",
    "\n",
    "We have data from six games, giving twelve data points. Hence, it would not be surprising if that is not enough data."
   ]
  },
  {
   "cell_type": "markdown",
   "metadata": {},
   "source": [
    "# Power Play Success Prediction (Goal or nah)"
   ]
  },
  {
   "cell_type": "code",
   "execution_count": 11,
   "metadata": {},
   "outputs": [],
   "source": [
    "def game_and_venue(G) -> Tuple[Game, Venue]:\n",
    "    return (G.game.game, G.venue)\n",
    "\n",
    "\n",
    "def get_pp_df(features: List[Callable] | Callable) -> pd.DataFrame:\n",
    "    \"\"\"\n",
    "    Builds a dataframe of features for each Power Play for regressing on the success of the Power Play (goal or not) or\n",
    "    the number of shots.\n",
    "\n",
    "    Args:\n",
    "        features (List[Callable] | Callable): features to be computed for each PP\n",
    "\n",
    "    Returns:\n",
    "        pd.DataFrame: Dataframe with columns game_str, log_n_passes, target, normal_feature_1, ..., normal_feature_n, pp_feature_1, ..., pp_feature_n\n",
    "    \"\"\"\n",
    "    if callable(features):\n",
    "        features = [features]\n",
    "    regular_feature_map = {game_and_venue(G): {feature: feature(G) for feature in features} for G in regular_networks()}\n",
    "    df = pd.DataFrame(\n",
    "        [\n",
    "            {\n",
    "                \"game_str\": G.name,\n",
    "                \"n_passes\": G.n_passes,\n",
    "                \"log_n_passes\": np.log(G.n_passes),\n",
    "                \"goal\": G.goal,\n",
    "                \"n_shots\": G.n_shots,\n",
    "            }\n",
    "            | {f\"normal_{feature.__name__}\": regular_feature_map[game_and_venue(G)][feature] for feature in features}\n",
    "            | {f\"pp_{feature.__name__}\": feature(G) for feature in features}\n",
    "            for G in power_play_networks()\n",
    "        ]\n",
    "    )\n",
    "    return df"
   ]
  },
  {
   "cell_type": "code",
   "execution_count": 12,
   "metadata": {},
   "outputs": [
    {
     "name": "stderr",
     "output_type": "stream",
     "text": [
      "/home/fabio/miniconda3/envs/sn/lib/python3.10/site-packages/networkx/algorithms/assortativity/correlation.py:302: RuntimeWarning: invalid value encountered in scalar divide\n",
      "  return (xy * (M - ab)).sum() / np.sqrt(vara * varb)\n"
     ]
    },
    {
     "data": {
      "text/html": [
       "<div>\n",
       "<style scoped>\n",
       "    .dataframe tbody tr th:only-of-type {\n",
       "        vertical-align: middle;\n",
       "    }\n",
       "\n",
       "    .dataframe tbody tr th {\n",
       "        vertical-align: top;\n",
       "    }\n",
       "\n",
       "    .dataframe thead th {\n",
       "        text-align: right;\n",
       "    }\n",
       "</style>\n",
       "<table border=\"1\" class=\"dataframe\">\n",
       "  <thead>\n",
       "    <tr style=\"text-align: right;\">\n",
       "      <th></th>\n",
       "      <th>game_str</th>\n",
       "      <th>n_passes</th>\n",
       "      <th>log_n_passes</th>\n",
       "      <th>goal</th>\n",
       "      <th>n_shots</th>\n",
       "      <th>normal_assortativity</th>\n",
       "      <th>normal_clustering</th>\n",
       "      <th>normal_degree_mean</th>\n",
       "      <th>normal_degree_std</th>\n",
       "      <th>pp_assortativity</th>\n",
       "      <th>pp_clustering</th>\n",
       "      <th>pp_degree_mean</th>\n",
       "      <th>pp_degree_std</th>\n",
       "    </tr>\n",
       "  </thead>\n",
       "  <tbody>\n",
       "    <tr>\n",
       "      <th>0</th>\n",
       "      <td>2022-02-08 Canada at USA_2_pp_home</td>\n",
       "      <td>27.0</td>\n",
       "      <td>3.295837</td>\n",
       "      <td>0</td>\n",
       "      <td>4</td>\n",
       "      <td>0.120174</td>\n",
       "      <td>0.461392</td>\n",
       "      <td>82.8</td>\n",
       "      <td>11.052602</td>\n",
       "      <td>-0.441123</td>\n",
       "      <td>0.221375</td>\n",
       "      <td>9.200000</td>\n",
       "      <td>4.955805</td>\n",
       "    </tr>\n",
       "    <tr>\n",
       "      <th>1</th>\n",
       "      <td>2022-02-08 Canada at USA_3_pp_home</td>\n",
       "      <td>21.0</td>\n",
       "      <td>3.044522</td>\n",
       "      <td>0</td>\n",
       "      <td>4</td>\n",
       "      <td>0.120174</td>\n",
       "      <td>0.461392</td>\n",
       "      <td>82.8</td>\n",
       "      <td>11.052602</td>\n",
       "      <td>-0.098857</td>\n",
       "      <td>0.291941</td>\n",
       "      <td>8.400000</td>\n",
       "      <td>2.727636</td>\n",
       "    </tr>\n",
       "    <tr>\n",
       "      <th>2</th>\n",
       "      <td>2022-02-08 Canada at USA_4_pp_home</td>\n",
       "      <td>15.0</td>\n",
       "      <td>2.708050</td>\n",
       "      <td>1</td>\n",
       "      <td>3</td>\n",
       "      <td>0.120174</td>\n",
       "      <td>0.461392</td>\n",
       "      <td>82.8</td>\n",
       "      <td>11.052602</td>\n",
       "      <td>-0.828079</td>\n",
       "      <td>0.220036</td>\n",
       "      <td>4.800000</td>\n",
       "      <td>1.469694</td>\n",
       "    </tr>\n",
       "    <tr>\n",
       "      <th>3</th>\n",
       "      <td>2022-02-08 Canada at USA_5_pp_home</td>\n",
       "      <td>11.0</td>\n",
       "      <td>2.397895</td>\n",
       "      <td>0</td>\n",
       "      <td>2</td>\n",
       "      <td>0.120174</td>\n",
       "      <td>0.461392</td>\n",
       "      <td>82.8</td>\n",
       "      <td>11.052602</td>\n",
       "      <td>0.683130</td>\n",
       "      <td>0.111614</td>\n",
       "      <td>4.400000</td>\n",
       "      <td>1.854724</td>\n",
       "    </tr>\n",
       "    <tr>\n",
       "      <th>4</th>\n",
       "      <td>2022-02-08 Canada at USA_6_pp_home</td>\n",
       "      <td>34.0</td>\n",
       "      <td>3.526361</td>\n",
       "      <td>0</td>\n",
       "      <td>6</td>\n",
       "      <td>0.120174</td>\n",
       "      <td>0.461392</td>\n",
       "      <td>82.8</td>\n",
       "      <td>11.052602</td>\n",
       "      <td>-0.282587</td>\n",
       "      <td>0.349990</td>\n",
       "      <td>11.600000</td>\n",
       "      <td>2.653300</td>\n",
       "    </tr>\n",
       "    <tr>\n",
       "      <th>5</th>\n",
       "      <td>2022-02-08 Canada at USA_1_pp_away</td>\n",
       "      <td>12.0</td>\n",
       "      <td>2.484907</td>\n",
       "      <td>1</td>\n",
       "      <td>1</td>\n",
       "      <td>-0.102773</td>\n",
       "      <td>0.474962</td>\n",
       "      <td>69.6</td>\n",
       "      <td>14.595890</td>\n",
       "      <td>-0.250000</td>\n",
       "      <td>0.567420</td>\n",
       "      <td>7.333333</td>\n",
       "      <td>1.247219</td>\n",
       "    </tr>\n",
       "    <tr>\n",
       "      <th>6</th>\n",
       "      <td>2022-02-08 ROC at Finland_4_pp_home</td>\n",
       "      <td>10.0</td>\n",
       "      <td>2.302585</td>\n",
       "      <td>1</td>\n",
       "      <td>2</td>\n",
       "      <td>0.041894</td>\n",
       "      <td>0.493256</td>\n",
       "      <td>98.8</td>\n",
       "      <td>13.658697</td>\n",
       "      <td>0.213201</td>\n",
       "      <td>0.000000</td>\n",
       "      <td>5.000000</td>\n",
       "      <td>2.549510</td>\n",
       "    </tr>\n",
       "  </tbody>\n",
       "</table>\n",
       "</div>"
      ],
      "text/plain": [
       "                              game_str  n_passes  log_n_passes  goal  n_shots  \\\n",
       "0   2022-02-08 Canada at USA_2_pp_home      27.0      3.295837     0        4   \n",
       "1   2022-02-08 Canada at USA_3_pp_home      21.0      3.044522     0        4   \n",
       "2   2022-02-08 Canada at USA_4_pp_home      15.0      2.708050     1        3   \n",
       "3   2022-02-08 Canada at USA_5_pp_home      11.0      2.397895     0        2   \n",
       "4   2022-02-08 Canada at USA_6_pp_home      34.0      3.526361     0        6   \n",
       "5   2022-02-08 Canada at USA_1_pp_away      12.0      2.484907     1        1   \n",
       "6  2022-02-08 ROC at Finland_4_pp_home      10.0      2.302585     1        2   \n",
       "\n",
       "   normal_assortativity  normal_clustering  normal_degree_mean  \\\n",
       "0              0.120174           0.461392                82.8   \n",
       "1              0.120174           0.461392                82.8   \n",
       "2              0.120174           0.461392                82.8   \n",
       "3              0.120174           0.461392                82.8   \n",
       "4              0.120174           0.461392                82.8   \n",
       "5             -0.102773           0.474962                69.6   \n",
       "6              0.041894           0.493256                98.8   \n",
       "\n",
       "   normal_degree_std  pp_assortativity  pp_clustering  pp_degree_mean  \\\n",
       "0          11.052602         -0.441123       0.221375        9.200000   \n",
       "1          11.052602         -0.098857       0.291941        8.400000   \n",
       "2          11.052602         -0.828079       0.220036        4.800000   \n",
       "3          11.052602          0.683130       0.111614        4.400000   \n",
       "4          11.052602         -0.282587       0.349990       11.600000   \n",
       "5          14.595890         -0.250000       0.567420        7.333333   \n",
       "6          13.658697          0.213201       0.000000        5.000000   \n",
       "\n",
       "   pp_degree_std  \n",
       "0       4.955805  \n",
       "1       2.727636  \n",
       "2       1.469694  \n",
       "3       1.854724  \n",
       "4       2.653300  \n",
       "5       1.247219  \n",
       "6       2.549510  "
      ]
     },
     "execution_count": 12,
     "metadata": {},
     "output_type": "execute_result"
    }
   ],
   "source": [
    "get_pp_df(features).head(7)"
   ]
  },
  {
   "cell_type": "code",
   "execution_count": 13,
   "metadata": {},
   "outputs": [
    {
     "name": "stderr",
     "output_type": "stream",
     "text": [
      "/home/fabio/miniconda3/envs/sn/lib/python3.10/site-packages/networkx/algorithms/assortativity/correlation.py:302: RuntimeWarning: invalid value encountered in scalar divide\n",
      "  return (xy * (M - ab)).sum() / np.sqrt(vara * varb)\n"
     ]
    },
    {
     "data": {
      "text/plain": [
       "<seaborn.axisgrid.PairGrid at 0x7f4fa1e96f50>"
      ]
     },
     "execution_count": 13,
     "metadata": {},
     "output_type": "execute_result"
    },
    {
     "data": {
      "image/png": "[encoded data removed]",
      "text/plain": [
       "<Figure size 1000x250 with 4 Axes>"
      ]
     },
     "metadata": {},
     "output_type": "display_data"
    }
   ],
   "source": [
    "df = get_pp_df(features)\n",
    "sns.pairplot(df, x_vars=[f\"pp_{feature.__name__}\" for feature in features], y_vars=[\"goal\"])"
   ]
  },
  {
   "cell_type": "code",
   "execution_count": 14,
   "metadata": {},
   "outputs": [
    {
     "name": "stdout",
     "output_type": "stream",
     "text": [
      "Feature: assortativity\n",
      "Optimization terminated successfully.\n",
      "         Current function value: 0.467419\n",
      "         Iterations 6\n",
      "                           Logit Regression Results                           \n",
      "==============================================================================\n",
      "Dep. Variable:                   goal   No. Observations:                   30\n",
      "Model:                          Logit   Df Residuals:                       26\n",
      "Method:                           MLE   Df Model:                            3\n",
      "Date:                Mon, 11 Dec 2023   Pseudo R-squ.:                  0.1940\n",
      "Time:                        00:46:21   Log-Likelihood:                -14.023\n",
      "converged:                       True   LL-Null:                       -17.397\n",
      "Covariance Type:            nonrobust   LLR p-value:                   0.08032\n",
      "========================================================================================\n",
      "                           coef    std err          z      P>|z|      [0.025      0.975]\n",
      "----------------------------------------------------------------------------------------\n",
      "const                    6.7448      3.804      1.773      0.076      -0.711      14.200\n",
      "normal_assortativity    -3.2111      5.251     -0.612      0.541     -13.502       7.080\n",
      "pp_assortativity        -1.3455      1.137     -1.184      0.236      -3.573       0.882\n",
      "log_n_passes            -2.8329      1.438     -1.971      0.049      -5.650      -0.015\n",
      "========================================================================================\n",
      "\n",
      "\n",
      "\n",
      "Feature: clustering\n"
     ]
    },
    {
     "name": "stderr",
     "output_type": "stream",
     "text": [
      "/home/fabio/miniconda3/envs/sn/lib/python3.10/site-packages/networkx/algorithms/assortativity/correlation.py:302: RuntimeWarning: invalid value encountered in scalar divide\n",
      "  return (xy * (M - ab)).sum() / np.sqrt(vara * varb)\n"
     ]
    },
    {
     "name": "stdout",
     "output_type": "stream",
     "text": [
      "Optimization terminated successfully.\n",
      "         Current function value: 0.525894\n",
      "         Iterations 6\n",
      "                           Logit Regression Results                           \n",
      "==============================================================================\n",
      "Dep. Variable:                   goal   No. Observations:                   31\n",
      "Model:                          Logit   Df Residuals:                       27\n",
      "Method:                           MLE   Df Model:                            3\n",
      "Date:                Mon, 11 Dec 2023   Pseudo R-squ.:                 0.07903\n",
      "Time:                        00:46:21   Log-Likelihood:                -16.303\n",
      "converged:                       True   LL-Null:                       -17.702\n",
      "Covariance Type:            nonrobust   LLR p-value:                    0.4238\n",
      "=====================================================================================\n",
      "                        coef    std err          z      P>|z|      [0.025      0.975]\n",
      "-------------------------------------------------------------------------------------\n",
      "const                 1.7744      2.833      0.626      0.531      -3.778       7.327\n",
      "normal_clustering     1.3511      4.339      0.311      0.756      -7.154       9.856\n",
      "pp_clustering         4.0658      3.949      1.030      0.303      -3.673      11.805\n",
      "log_n_passes         -1.6881      1.080     -1.564      0.118      -3.804       0.428\n",
      "=====================================================================================\n",
      "\n",
      "\n",
      "\n",
      "Feature: degree_mean\n",
      "Optimization terminated successfully.\n",
      "         Current function value: 0.554136\n",
      "         Iterations 6\n",
      "                           Logit Regression Results                           \n",
      "==============================================================================\n",
      "Dep. Variable:                   goal   No. Observations:                   31\n",
      "Model:                          Logit   Df Residuals:                       28\n",
      "Method:                           MLE   Df Model:                            2\n",
      "Date:                Mon, 11 Dec 2023   Pseudo R-squ.:                 0.02957\n",
      "Time:                        00:46:21   Log-Likelihood:                -17.178\n",
      "converged:                       True   LL-Null:                       -17.702\n",
      "Covariance Type:            nonrobust   LLR p-value:                    0.5924\n",
      "======================================================================================\n",
      "                         coef    std err          z      P>|z|      [0.025      0.975]\n",
      "--------------------------------------------------------------------------------------\n",
      "const                  0.6942      2.025      0.343      0.732      -3.274       4.662\n",
      "normal_degree_mean    -0.0119      0.024     -0.500      0.617      -0.059       0.035\n",
      "pp_degree_mean        -0.1230      0.169     -0.727      0.467      -0.454       0.209\n",
      "======================================================================================\n",
      "\n",
      "\n",
      "\n",
      "Feature: degree_std\n",
      "Optimization terminated successfully.\n",
      "         Current function value: 0.529994\n",
      "         Iterations 6\n",
      "                           Logit Regression Results                           \n",
      "==============================================================================\n",
      "Dep. Variable:                   goal   No. Observations:                   31\n",
      "Model:                          Logit   Df Residuals:                       27\n",
      "Method:                           MLE   Df Model:                            3\n",
      "Date:                Mon, 11 Dec 2023   Pseudo R-squ.:                 0.07185\n",
      "Time:                        00:46:21   Log-Likelihood:                -16.430\n",
      "converged:                       True   LL-Null:                       -17.702\n",
      "Covariance Type:            nonrobust   LLR p-value:                    0.4674\n",
      "=====================================================================================\n",
      "                        coef    std err          z      P>|z|      [0.025      0.975]\n",
      "-------------------------------------------------------------------------------------\n",
      "const                 3.4722      3.617      0.960      0.337      -3.618      10.562\n",
      "normal_degree_std    -0.1010      0.133     -0.760      0.447      -0.361       0.159\n",
      "pp_degree_std        -0.2484      0.489     -0.508      0.612      -1.208       0.711\n",
      "log_n_passes         -0.9967      1.176     -0.847      0.397      -3.302       1.309\n",
      "=====================================================================================\n",
      "\n",
      "\n",
      "\n"
     ]
    }
   ],
   "source": [
    "for feature in features:\n",
    "    feature_name = feature.__name__\n",
    "    print(f\"Feature: {feature_name}\")\n",
    "    df = get_pp_df(feature)\n",
    "    df.dropna(inplace=True)\n",
    "    covariates = [f\"normal_{feature_name}\", f\"pp_{feature_name}\"] + controls[feature]\n",
    "    fit(df, covariates=covariates, target=\"goal\", family=\"binomial\")\n",
    "    print(\"\\n\\n\")"
   ]
  },
  {
   "cell_type": "markdown",
   "metadata": {},
   "source": [
    "Also doesn't work."
   ]
  },
  {
   "cell_type": "markdown",
   "metadata": {},
   "source": [
    "# Predicting Number of Shots"
   ]
  },
  {
   "cell_type": "markdown",
   "metadata": {},
   "source": [
    "Let's first see if `n_passes` predicts `n_shots`."
   ]
  },
  {
   "cell_type": "code",
   "execution_count": 15,
   "metadata": {},
   "outputs": [
    {
     "name": "stdout",
     "output_type": "stream",
     "text": [
      "                 Generalized Linear Model Regression Results                  \n",
      "==============================================================================\n",
      "Dep. Variable:                n_shots   No. Observations:                   31\n",
      "Model:                            GLM   Df Residuals:                       29\n",
      "Model Family:                 Poisson   Df Model:                            1\n",
      "Link Function:                    Log   Scale:                          1.0000\n",
      "Method:                          IRLS   Log-Likelihood:                -59.081\n",
      "Date:                Mon, 11 Dec 2023   Deviance:                       35.234\n",
      "Time:                        00:46:21   Pearson chi2:                     36.3\n",
      "No. Iterations:                     4   Pseudo R-squ. (CS):             0.4820\n",
      "Covariance Type:            nonrobust                                         \n",
      "==============================================================================\n",
      "                 coef    std err          z      P>|z|      [0.025      0.975]\n",
      "------------------------------------------------------------------------------\n",
      "const          0.0099      0.283      0.035      0.972      -0.545       0.565\n",
      "n_passes       0.0563      0.012      4.583      0.000       0.032       0.080\n",
      "==============================================================================\n"
     ]
    },
    {
     "name": "stderr",
     "output_type": "stream",
     "text": [
      "/home/fabio/miniconda3/envs/sn/lib/python3.10/site-packages/networkx/algorithms/assortativity/correlation.py:302: RuntimeWarning: invalid value encountered in scalar divide\n",
      "  return (xy * (M - ab)).sum() / np.sqrt(vara * varb)\n"
     ]
    }
   ],
   "source": [
    "df = get_pp_df(features)\n",
    "fit(df, covariates=[\"n_passes\"], target=\"n_shots\", family=\"poisson\")"
   ]
  },
  {
   "cell_type": "markdown",
   "metadata": {},
   "source": [
    "It does. The number of passes is a significant predictor of the number of shots (p<0.0005). The coefficient is 0.0563, which means that all else equal, for every additional pass, we expect an increase in the number of shots by a factor of $e^{0.0563}\\approx 0.057$ (remember that we use Poisson regression). This means for every ~18 passes a team will have an extra shot.\n",
    "\n",
    "Let's see if the other network features are also predictive of the number of shots."
   ]
  },
  {
   "cell_type": "code",
   "execution_count": 16,
   "metadata": {},
   "outputs": [
    {
     "name": "stderr",
     "output_type": "stream",
     "text": [
      "/home/fabio/miniconda3/envs/sn/lib/python3.10/site-packages/networkx/algorithms/assortativity/correlation.py:302: RuntimeWarning: invalid value encountered in scalar divide\n",
      "  return (xy * (M - ab)).sum() / np.sqrt(vara * varb)\n"
     ]
    },
    {
     "data": {
      "text/plain": [
       "<seaborn.axisgrid.PairGrid at 0x7f4fa1e95990>"
      ]
     },
     "execution_count": 16,
     "metadata": {},
     "output_type": "execute_result"
    },
    {
     "data": {
      "image/png": "[encoded data removed]",
      "text/plain": [
       "<Figure size 1000x250 with 4 Axes>"
      ]
     },
     "metadata": {},
     "output_type": "display_data"
    }
   ],
   "source": [
    "df = get_pp_df(features)\n",
    "sns.pairplot(df, x_vars=[f\"pp_{feature.__name__}\" for feature in features], y_vars=[\"n_shots\"])"
   ]
  },
  {
   "cell_type": "code",
   "execution_count": 17,
   "metadata": {},
   "outputs": [
    {
     "name": "stdout",
     "output_type": "stream",
     "text": [
      "Feature: assortativity\n",
      "                 Generalized Linear Model Regression Results                  \n",
      "==============================================================================\n",
      "Dep. Variable:                n_shots   No. Observations:                   30\n",
      "Model:                            GLM   Df Residuals:                       27\n",
      "Model Family:                 Poisson   Df Model:                            2\n",
      "Link Function:                    Log   Scale:                          1.0000\n",
      "Method:                          IRLS   Log-Likelihood:                -58.978\n",
      "Date:                Mon, 11 Dec 2023   Deviance:                       35.029\n",
      "Time:                        00:46:23   Pearson chi2:                     35.3\n",
      "No. Iterations:                     4   Pseudo R-squ. (CS):             0.3819\n",
      "Covariance Type:            nonrobust                                         \n",
      "====================================================================================\n",
      "                       coef    std err          z      P>|z|      [0.025      0.975]\n",
      "------------------------------------------------------------------------------------\n",
      "const               -1.6764      0.784     -2.139      0.032      -3.213      -0.140\n",
      "pp_assortativity    -0.0145      0.297     -0.049      0.961      -0.597       0.568\n",
      "log_n_passes         0.9721      0.263      3.696      0.000       0.457       1.488\n",
      "====================================================================================\n",
      "\n",
      "\n",
      "\n",
      "Feature: clustering\n"
     ]
    },
    {
     "name": "stderr",
     "output_type": "stream",
     "text": [
      "/home/fabio/miniconda3/envs/sn/lib/python3.10/site-packages/networkx/algorithms/assortativity/correlation.py:302: RuntimeWarning: invalid value encountered in scalar divide\n",
      "  return (xy * (M - ab)).sum() / np.sqrt(vara * varb)\n"
     ]
    },
    {
     "name": "stdout",
     "output_type": "stream",
     "text": [
      "                 Generalized Linear Model Regression Results                  \n",
      "==============================================================================\n",
      "Dep. Variable:                n_shots   No. Observations:                   31\n",
      "Model:                            GLM   Df Residuals:                       28\n",
      "Model Family:                 Poisson   Df Model:                            2\n",
      "Link Function:                    Log   Scale:                          1.0000\n",
      "Method:                          IRLS   Log-Likelihood:                -59.472\n",
      "Date:                Mon, 11 Dec 2023   Deviance:                       36.017\n",
      "Time:                        00:46:23   Pearson chi2:                     36.7\n",
      "No. Iterations:                     5   Pseudo R-squ. (CS):             0.4687\n",
      "Covariance Type:            nonrobust                                         \n",
      "=================================================================================\n",
      "                    coef    std err          z      P>|z|      [0.025      0.975]\n",
      "---------------------------------------------------------------------------------\n",
      "const            -1.8479      0.746     -2.476      0.013      -3.311      -0.385\n",
      "pp_clustering    -0.2040      1.079     -0.189      0.850      -2.318       1.910\n",
      "log_n_passes      1.0478      0.255      4.115      0.000       0.549       1.547\n",
      "=================================================================================\n",
      "\n",
      "\n",
      "\n",
      "Feature: degree_mean\n",
      "                 Generalized Linear Model Regression Results                  \n",
      "==============================================================================\n",
      "Dep. Variable:                n_shots   No. Observations:                   31\n",
      "Model:                            GLM   Df Residuals:                       29\n",
      "Model Family:                 Poisson   Df Model:                            1\n",
      "Link Function:                    Log   Scale:                          1.0000\n",
      "Method:                          IRLS   Log-Likelihood:                -59.971\n",
      "Date:                Mon, 11 Dec 2023   Deviance:                       37.015\n",
      "Time:                        00:46:23   Pearson chi2:                     37.4\n",
      "No. Iterations:                     4   Pseudo R-squ. (CS):             0.4513\n",
      "Covariance Type:            nonrobust                                         \n",
      "==================================================================================\n",
      "                     coef    std err          z      P>|z|      [0.025      0.975]\n",
      "----------------------------------------------------------------------------------\n",
      "const             -0.0284      0.304     -0.094      0.925      -0.624       0.567\n",
      "pp_degree_mean     0.1587      0.037      4.328      0.000       0.087       0.231\n",
      "==================================================================================\n",
      "\n",
      "\n",
      "\n",
      "Feature: degree_std\n",
      "                 Generalized Linear Model Regression Results                  \n",
      "==============================================================================\n",
      "Dep. Variable:                n_shots   No. Observations:                   31\n",
      "Model:                            GLM   Df Residuals:                       28\n",
      "Model Family:                 Poisson   Df Model:                            2\n",
      "Link Function:                    Log   Scale:                          1.0000\n",
      "Method:                          IRLS   Log-Likelihood:                -58.586\n",
      "Date:                Mon, 11 Dec 2023   Deviance:                       34.245\n",
      "Time:                        00:46:24   Pearson chi2:                     35.2\n",
      "No. Iterations:                     4   Pseudo R-squ. (CS):             0.4983\n",
      "Covariance Type:            nonrobust                                         \n",
      "=================================================================================\n",
      "                    coef    std err          z      P>|z|      [0.025      0.975]\n",
      "---------------------------------------------------------------------------------\n",
      "const            -1.5043      0.791     -1.901      0.057      -3.055       0.047\n",
      "pp_degree_std     0.1023      0.075      1.358      0.175      -0.045       0.250\n",
      "log_n_passes      0.8019      0.306      2.622      0.009       0.203       1.401\n",
      "=================================================================================\n",
      "\n",
      "\n",
      "\n"
     ]
    }
   ],
   "source": [
    "for feature in features:\n",
    "    feature_name = feature.__name__\n",
    "    print(f\"Feature: {feature_name}\")\n",
    "    df = get_pp_df(feature)\n",
    "    df.dropna(inplace=True)\n",
    "    covariates = [f\"pp_{feature_name}\"] + controls[feature]\n",
    "    fit(df, covariates=covariates, target=\"n_shots\", family=\"poisson\")\n",
    "    print(\"\\n\\n\")"
   ]
  },
  {
   "cell_type": "markdown",
   "metadata": {},
   "source": [
    "`degree_mean` is a significant predictor of `n_shots`. This is not surprising given the above as `degree_mean` is highly correlated with `n_passes`.\n",
    "\n",
    "On the other hand, `assortativity` and `clustering` are also not predictive in this task.\n",
    "\n",
    "We can also include the features from regular play (not power play) and see if the features become more predictive by being able to look at the contrast between normal play and power play."
   ]
  },
  {
   "cell_type": "code",
   "execution_count": 18,
   "metadata": {},
   "outputs": [
    {
     "name": "stdout",
     "output_type": "stream",
     "text": [
      "Feature: assortativity\n"
     ]
    },
    {
     "name": "stdout",
     "output_type": "stream",
     "text": [
      "                 Generalized Linear Model Regression Results                  \n",
      "==============================================================================\n",
      "Dep. Variable:                n_shots   No. Observations:                   30\n",
      "Model:                            GLM   Df Residuals:                       26\n",
      "Model Family:                 Poisson   Df Model:                            3\n",
      "Link Function:                    Log   Scale:                          1.0000\n",
      "Method:                          IRLS   Log-Likelihood:                -57.999\n",
      "Date:                Mon, 11 Dec 2023   Deviance:                       33.072\n",
      "Time:                        00:46:24   Pearson chi2:                     31.6\n",
      "No. Iterations:                     4   Pseudo R-squ. (CS):             0.4209\n",
      "Covariance Type:            nonrobust                                         \n",
      "========================================================================================\n",
      "                           coef    std err          z      P>|z|      [0.025      0.975]\n",
      "----------------------------------------------------------------------------------------\n",
      "const                   -1.6913      0.779     -2.170      0.030      -3.219      -0.164\n",
      "normal_assortativity    -1.6787      1.198     -1.401      0.161      -4.028       0.670\n",
      "pp_assortativity        -0.0275      0.300     -0.092      0.927      -0.616       0.561\n",
      "log_n_passes             1.0186      0.264      3.864      0.000       0.502       1.535\n",
      "========================================================================================\n",
      "\n",
      "\n",
      "\n",
      "Feature: clustering\n"
     ]
    },
    {
     "name": "stderr",
     "output_type": "stream",
     "text": [
      "/home/fabio/miniconda3/envs/sn/lib/python3.10/site-packages/networkx/algorithms/assortativity/correlation.py:302: RuntimeWarning: invalid value encountered in scalar divide\n",
      "  return (xy * (M - ab)).sum() / np.sqrt(vara * varb)\n"
     ]
    },
    {
     "name": "stdout",
     "output_type": "stream",
     "text": [
      "                 Generalized Linear Model Regression Results                  \n",
      "==============================================================================\n",
      "Dep. Variable:                n_shots   No. Observations:                   31\n",
      "Model:                            GLM   Df Residuals:                       27\n",
      "Model Family:                 Poisson   Df Model:                            3\n",
      "Link Function:                    Log   Scale:                          1.0000\n",
      "Method:                          IRLS   Log-Likelihood:                -59.195\n",
      "Date:                Mon, 11 Dec 2023   Deviance:                       35.463\n",
      "Time:                        00:46:24   Pearson chi2:                     36.4\n",
      "No. Iterations:                     5   Pseudo R-squ. (CS):             0.4781\n",
      "Covariance Type:            nonrobust                                         \n",
      "=====================================================================================\n",
      "                        coef    std err          z      P>|z|      [0.025      0.975]\n",
      "-------------------------------------------------------------------------------------\n",
      "const                -2.1096      0.829     -2.546      0.011      -3.734      -0.485\n",
      "normal_clustering     0.8772      1.182      0.742      0.458      -1.439       3.193\n",
      "pp_clustering         0.0597      1.117      0.053      0.957      -2.131       2.250\n",
      "log_n_passes          0.9614      0.276      3.484      0.000       0.421       1.502\n",
      "=====================================================================================\n",
      "\n",
      "\n",
      "\n",
      "Feature: degree_mean\n",
      "                 Generalized Linear Model Regression Results                  \n",
      "==============================================================================\n",
      "Dep. Variable:                n_shots   No. Observations:                   31\n",
      "Model:                            GLM   Df Residuals:                       28\n",
      "Model Family:                 Poisson   Df Model:                            2\n",
      "Link Function:                    Log   Scale:                          1.0000\n",
      "Method:                          IRLS   Log-Likelihood:                -58.879\n",
      "Date:                Mon, 11 Dec 2023   Deviance:                       34.831\n",
      "Time:                        00:46:24   Pearson chi2:                     36.4\n",
      "No. Iterations:                     4   Pseudo R-squ. (CS):             0.4887\n",
      "Covariance Type:            nonrobust                                         \n",
      "======================================================================================\n",
      "                         coef    std err          z      P>|z|      [0.025      0.975]\n",
      "--------------------------------------------------------------------------------------\n",
      "const                 -0.6455      0.519     -1.243      0.214      -1.664       0.372\n",
      "normal_degree_mean     0.0087      0.006      1.502      0.133      -0.003       0.020\n",
      "pp_degree_mean         0.1409      0.038      3.708      0.000       0.066       0.215\n",
      "======================================================================================\n",
      "\n",
      "\n",
      "\n",
      "Feature: degree_std\n",
      "                 Generalized Linear Model Regression Results                  \n",
      "==============================================================================\n",
      "Dep. Variable:                n_shots   No. Observations:                   31\n",
      "Model:                            GLM   Df Residuals:                       27\n",
      "Model Family:                 Poisson   Df Model:                            3\n",
      "Link Function:                    Log   Scale:                          1.0000\n",
      "Method:                          IRLS   Log-Likelihood:                -58.105\n",
      "Date:                Mon, 11 Dec 2023   Deviance:                       33.282\n",
      "Time:                        00:46:24   Pearson chi2:                     32.1\n",
      "No. Iterations:                     4   Pseudo R-squ. (CS):             0.5136\n",
      "Covariance Type:            nonrobust                                         \n",
      "=====================================================================================\n",
      "                        coef    std err          z      P>|z|      [0.025      0.975]\n",
      "-------------------------------------------------------------------------------------\n",
      "const                -2.1150      1.015     -2.084      0.037      -4.104      -0.126\n",
      "normal_degree_std     0.0341      0.035      0.982      0.326      -0.034       0.102\n",
      "pp_degree_std         0.1138      0.076      1.498      0.134      -0.035       0.263\n",
      "log_n_passes          0.8616      0.310      2.780      0.005       0.254       1.469\n",
      "=====================================================================================\n",
      "\n",
      "\n",
      "\n"
     ]
    }
   ],
   "source": [
    "for feature in features:\n",
    "    feature_name = feature.__name__\n",
    "    print(f\"Feature: {feature_name}\")\n",
    "    df = get_pp_df(feature)\n",
    "    df.dropna(inplace=True)\n",
    "    covariates = [f\"normal_{feature_name}\", f\"pp_{feature_name}\"] + controls[feature]\n",
    "    fit(df, covariates=covariates, target=\"n_shots\", family=\"poisson\")\n",
    "    print(\"\\n\\n\")"
   ]
  }
 ],
 "metadata": {
  "kernelspec": {
   "display_name": "sn",
   "language": "python",
   "name": "python3"
  },
  "language_info": {
   "codemirror_mode": {
    "name": "ipython",
    "version": 3
   },
   "file_extension": ".py",
   "mimetype": "text/x-python",
   "name": "python",
   "nbconvert_exporter": "python",
   "pygments_lexer": "ipython3",
   "version": "3.10.13"
  }
 },
 "nbformat": 4,
 "nbformat_minor": 2
}
