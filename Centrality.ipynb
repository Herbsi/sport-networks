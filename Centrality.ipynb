{
 "cells": [
  {
   "cell_type": "code",
   "execution_count": null,
   "id": "70c4a8e6-4d49-4efe-80fd-f54f3ded652a",
   "metadata": {},
   "outputs": [],
   "source": [
    "import itertools\n",
    "import networkx as nx\n",
    "import numpy as np\n",
    "\n",
    "import network\n",
    "\n",
    "from preprocess_data import GAMES, MAX_PENALTY_NUMBER, build_networks, Game, Venue, Situation, PowerPlay, directed_to_undirected\n",
    "from datetime import date\n",
    "from enum import Enum\n",
    "\n",
    "import matplotlib.mlab as mlab\n",
    "import matplotlib.pyplot as plt\n",
    "\n",
    "from scipy import stats"
   ]
  },
  {
   "cell_type": "code",
   "execution_count": null,
   "id": "fee3ebd5-c611-4cfe-b20e-2cf5bdb3db7c",
   "metadata": {},
   "outputs": [],
   "source": [
    "def regular_networks():\n",
    "    for game, venue, (situation, pp) in itertools.product(\n",
    "        GAMES,\n",
    "        [Venue.HOME, Venue.AWAY],\n",
    "        [(Situation.REGULAR, None)]\n",
    "    ):\n",
    "        res = build_networks(Game(game), venue=venue, situation=situation, pp=pp)\n",
    "        if res is not None:\n",
    "            yield network.process_graph_for_analysis(res[\"position_pass_network\"])"
   ]
  },
  {
   "cell_type": "code",
   "execution_count": null,
   "id": "9f66ae07-3174-4d1f-ad7b-061f1131135c",
   "metadata": {},
   "outputs": [],
   "source": [
    "def power_play_networks():\n",
    "    for game, venue, pp in itertools.product(\n",
    "        GAMES,\n",
    "        [Venue.HOME, Venue.AWAY],\n",
    "        list(map(PowerPlay, range(1, MAX_PENALTY_NUMBER + 1)))\n",
    "    ):\n",
    "        res = build_networks(Game(game), venue=venue, situation=Situation.POWER_PLAY, pp=pp)\n",
    "        if res is not None:\n",
    "            yield network.process_graph_for_analysis(res[\"position_pass_network\"])"
   ]
  },
  {
   "cell_type": "code",
   "execution_count": null,
   "id": "f5b4a09c-f5d0-409e-860f-05b61a5dc06a",
   "metadata": {},
   "outputs": [],
   "source": [
    "positions = ['Left Defense', 'Left Wing', 'Center', 'Right Defense', 'Right Wing']"
   ]
  },
  {
   "cell_type": "code",
   "execution_count": null,
   "id": "8ceb749d-def7-4d16-8e47-78ec5b260bae",
   "metadata": {},
   "outputs": [],
   "source": [
    "# Regular Networks\n",
    "regular_centralities = dict((pos, []) for pos in positions)\n",
    "\n",
    "fig, axs = plt.subplots(5, 1, sharex=True)\n",
    "fig.set_figheight(15)\n",
    "fig.set_figwidth(15)\n",
    "\n",
    "for position, ax in zip(positions, axs):\n",
    "    x = [network.centrality(nw)[position] for nw in regular_networks()]\n",
    "    regular_centralities[position] = x\n",
    "    n, bins, patches = ax.hist(x, facecolor='blue', alpha=0.5, weights=np.ones_like(x) / len(x))\n",
    "    ax.set_title(position)\n",
    "    ax.set_xlim([0, 40])\n",
    "    ax.set_ylim([0, 0.5])\n",
    "\n",
    "plt.savefig(\"regular.png\", dpi=300)\n",
    "plt.show()\n"
   ]
  },
  {
   "cell_type": "code",
   "execution_count": null,
   "id": "6f12a4f3-601a-4228-bf0c-541ff1601e36",
   "metadata": {},
   "outputs": [],
   "source": [
    "# Power Plays\n",
    "pp_centralities = dict((pos, []) for pos in positions)\n",
    "\n",
    "fig, axs = plt.subplots(5, 1, sharex=True)\n",
    "fig.set_figheight(15)\n",
    "fig.set_figwidth(15)\n",
    "\n",
    "\n",
    "for position, ax in zip(positions, axs):\n",
    "    # Ah, good old complicated python list comprehensions.\n",
    "    x = [centr[position] \n",
    "         for nw in power_play_networks() \n",
    "         if position in (centr := network.centrality(nw)).keys()]\n",
    "    pp_centralities[position] = x\n",
    "    print(f\"{position} occurrences: {len(x)}\")\n",
    "    n, bins, patches = ax.hist(x, facecolor='blue', alpha=0.5, weights=np.ones_like(x) / len(x))\n",
    "    ax.set_title(position)\n",
    "    ax.set_xlim([0, 40])\n",
    "    ax.set_ylim([0, 0.5])\n",
    "\n",
    "# print(f\"{failed_cnt / 5} / {cnt / 5} networks failed\")\n",
    "plt.savefig(\"pp.png\", dpi=300)\n",
    "plt.show()\n"
   ]
  },
  {
   "cell_type": "code",
   "execution_count": null,
   "id": "5983f718-289b-4f11-9d17-5eff72e1f02c",
   "metadata": {},
   "outputs": [],
   "source": [
    "for position in positions:\n",
    "    # TODO: I am no statistician, but samples used in pp_centralities are not independent; \n",
    "    # so, probably something cleverer (done by a less tired person) should be done.\n",
    "    print(position)\n",
    "    t = stats.ttest_ind(regular_centralities[position], pp_centralities[position], equal_var=False, alternative=\"greater\")\n",
    "    print(t)"
   ]
  },
  {
   "cell_type": "code",
   "execution_count": null,
   "id": "4bb19f8b-7a90-473d-bc15-7c9420773de0",
   "metadata": {},
   "outputs": [],
   "source": []
  }
 ],
 "metadata": {
  "kernelspec": {
   "display_name": "Python 3 (ipykernel)",
   "language": "python",
   "name": "python3"
  },
  "language_info": {
   "codemirror_mode": {
    "name": "ipython",
    "version": 3
   },
   "file_extension": ".py",
   "mimetype": "text/x-python",
   "name": "python",
   "nbconvert_exporter": "python",
   "pygments_lexer": "ipython3",
   "version": "3.11.5"
  }
 },
 "nbformat": 4,
 "nbformat_minor": 5
}
