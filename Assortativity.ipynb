{
 "cells": [
  {
   "cell_type": "code",
   "execution_count": null,
   "id": "70c4a8e6-4d49-4efe-80fd-f54f3ded652a",
   "metadata": {},
   "outputs": [],
   "source": [
    "import networkx as nx\n",
    "import numpy as np\n",
    "\n",
    "import network\n",
    "\n",
    "import preprocess_data\n",
    "from preprocess_data import Game, PowerPlay, Venue, Situation, read_networks, directed_to_undirected\n",
    "from datetime import date\n",
    "from enum import Enum\n",
    "\n",
    "import matplotlib.mlab as mlab\n",
    "import matplotlib.pyplot as plt\n",
    "\n",
    "from scipy import stats"
   ]
  },
  {
   "cell_type": "code",
   "execution_count": null,
   "id": "fee3ebd5-c611-4cfe-b20e-2cf5bdb3db7c",
   "metadata": {},
   "outputs": [],
   "source": [
    "def regular_networks():\n",
    "    for nw in read_networks(Situation.REGULAR):\n",
    "        assortativity = network.assortativity(nw)\n",
    "        yield assortativity"
   ]
  },
  {
   "cell_type": "code",
   "execution_count": null,
   "id": "9f66ae07-3174-4d1f-ad7b-061f1131135c",
   "metadata": {},
   "outputs": [],
   "source": [
    "def power_play_networks():\n",
    "    for nw in read_networks(Situation.POWER_PLAY):\n",
    "        assortativity = network.assortativity(nw)\n",
    "        yield assortativity"
   ]
  },
  {
   "cell_type": "code",
   "execution_count": null,
   "id": "3c0bb66d-0e8c-4ada-903b-4f8055a0480c",
   "metadata": {},
   "outputs": [],
   "source": [
    "def penalty_kill_networks():\n",
    "    for nw in read_networks(Situation.PENALTY_KILL):\n",
    "        assortativity = network.assortativity(nw)\n",
    "        yield assortativity"
   ]
  },
  {
   "cell_type": "code",
   "execution_count": null,
   "id": "5983f718-289b-4f11-9d17-5eff72e1f02c",
   "metadata": {},
   "outputs": [],
   "source": [
    "# Assortativity: Regular vs Power Play\n",
    "fig, axs = plt.subplots(1, 1, sharex=True)\n",
    "\n",
    "x_reg = list(regular_networks())\n",
    "x_pp  = list(power_play_networks())\n",
    "x_pk  = list(penalty_kill_networks())\n",
    "n, bins, patches = axs.hist([x_reg, x_pp, x_pk], color=[\"grey\", \"steelblue\", \"brown\"])\n",
    "axs.legend([\"Regular\", \"Power Play\", \"Penalty Kill\"])\n",
    "axs.set_title(\"Assortativity\")\n",
    "\n",
    "plt.show()"
   ]
  },
  {
   "cell_type": "code",
   "execution_count": null,
   "id": "96859341-3246-4a7b-a9c6-60f25fa933d7",
   "metadata": {},
   "outputs": [],
   "source": []
  }
 ],
 "metadata": {
  "kernelspec": {
   "display_name": "Python 3 (ipykernel)",
   "language": "python",
   "name": "python3"
  },
  "language_info": {
   "codemirror_mode": {
    "name": "ipython",
    "version": 3
   },
   "file_extension": ".py",
   "mimetype": "text/x-python",
   "name": "python",
   "nbconvert_exporter": "python",
   "pygments_lexer": "ipython3",
   "version": "3.11.5"
  }
 },
 "nbformat": 4,
 "nbformat_minor": 5
}
