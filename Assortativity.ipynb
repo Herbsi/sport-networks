{
 "cells": [
  {
   "cell_type": "code",
   "execution_count": null,
   "id": "70c4a8e6-4d49-4efe-80fd-f54f3ded652a",
   "metadata": {},
   "outputs": [],
   "source": [
    "import networkx as nx\n",
    "import numpy as np\n",
    "\n",
    "import network\n",
    "\n",
    "from preprocess_data import Game, PowerPlay, Situation, read_networks\n",
    "from datetime import date\n",
    "from enum import Enum\n",
    "\n",
    "import matplotlib.mlab as mlab\n",
    "import matplotlib.pyplot as plt\n",
    "\n",
    "from scipy import stats"
   ]
  },
  {
   "cell_type": "code",
   "execution_count": null,
   "id": "fee3ebd5-c611-4cfe-b20e-2cf5bdb3db7c",
   "metadata": {},
   "outputs": [],
   "source": [
    "def regular_networks():\n",
    "    for nw in read_networks(Situation.REGULAR):\n",
    "        assortativity = network.assortativity(nw)\n",
    "        # time = calculate_time(Game(game), None)\n",
    "        yield assortativity"
   ]
  },
  {
   "cell_type": "code",
   "execution_count": null,
   "id": "9f66ae07-3174-4d1f-ad7b-061f1131135c",
   "metadata": {},
   "outputs": [],
   "source": [
    "def power_play_networks():\n",
    "    for nw in read_networks(Situation.POWER_PLAY):\n",
    "        assortativity = network.assortativity(nw)\n",
    "        yield assortativity"
   ]
  },
  {
   "cell_type": "code",
   "execution_count": null,
   "id": "3c0bb66d-0e8c-4ada-903b-4f8055a0480c",
   "metadata": {},
   "outputs": [],
   "source": [
    "def penalty_kill_networks():\n",
    "    for nw in read_networks(Situation.PENALTY_KILL):\n",
    "        assortativity = network.assortativity(nw)\n",
    "        yield assortativity"
   ]
  },
  {
   "cell_type": "code",
   "execution_count": null,
   "id": "5983f718-289b-4f11-9d17-5eff72e1f02c",
   "metadata": {},
   "outputs": [],
   "source": [
    "# Assortativity: Regular vs Power Play\n",
    "fig, axs = plt.subplots(2, 1, sharex=True)\n",
    "fig.set_figheight(10)\n",
    "fig.set_figwidth(15)\n",
    "\n",
    "x_reg = list(regular_networks())\n",
    "x_pp  = list(power_play_networks())\n",
    "# x_pk  = list(penalty_kill_networks())\n",
    "n, bins, patches = axs[0].hist(x_reg, facecolor='blue', alpha=0.5)\n",
    "n, bins, patches = axs[1].hist(x_pp, facecolor='blue', alpha=0.5)\n",
    "# n, bins, patches = axs[2].hist(x_pk, facecolor='blue', alpha=0.5)\n",
    "axs[0].set_title(\"Regular Networks\")\n",
    "axs[1].set_title(\"Power Play Networks\")\n",
    "\n",
    "plt.savefig(\"assortativity_rel.png\", dpi=300)\n",
    "plt.show()\n",
    "\n",
    "print(stats.ttest_ind(x_reg, x_pp, alternative=\"greater\"))\n",
    "# print(stats.ttest_ind(x_reg, x_pk, alternative=\"greater\"))"
   ]
  },
  {
   "cell_type": "code",
   "execution_count": null,
   "id": "8291cff1-4ccc-41b5-9cb9-17a3b8dca3b6",
   "metadata": {},
   "outputs": [],
   "source": [
    "len(x_pp)"
   ]
  },
  {
   "cell_type": "code",
   "execution_count": null,
   "id": "430540d0-9b3d-48f2-af9d-04b50ae101ef",
   "metadata": {},
   "outputs": [],
   "source": []
  }
 ],
 "metadata": {
  "kernelspec": {
   "display_name": "Python 3 (ipykernel)",
   "language": "python",
   "name": "python3"
  },
  "language_info": {
   "codemirror_mode": {
    "name": "ipython",
    "version": 3
   },
   "file_extension": ".py",
   "mimetype": "text/x-python",
   "name": "python",
   "nbconvert_exporter": "python",
   "pygments_lexer": "ipython3",
   "version": "3.11.5"
  }
 },
 "nbformat": 4,
 "nbformat_minor": 5
}
