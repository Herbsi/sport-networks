{
 "cells": [
  {
   "cell_type": "code",
   "execution_count": null,
   "id": "70c4a8e6-4d49-4efe-80fd-f54f3ded652a",
   "metadata": {},
   "outputs": [],
   "source": [
    "import itertools\n",
    "import networkx as nx\n",
    "import numpy as np\n",
    "\n",
    "import network\n",
    "\n",
    "from preprocess_data import *\n",
    "from datetime import date\n",
    "from enum import Enum\n",
    "\n",
    "import pandas as pd\n",
    "import matplotlib.mlab as mlab\n",
    "import matplotlib.pyplot as plt\n",
    "\n",
    "from scipy import stats"
   ]
  },
  {
   "cell_type": "code",
   "execution_count": null,
   "id": "fee3ebd5-c611-4cfe-b20e-2cf5bdb3db7c",
   "metadata": {},
   "outputs": [],
   "source": [
    "def regular_networks():\n",
    "    for game, venue, (situation, pp) in itertools.product(\n",
    "        GAMES,\n",
    "        [Venue.HOME, Venue.AWAY],\n",
    "        [(Situation.REGULAR, None)]\n",
    "    ):\n",
    "        res = build_networks(Game(game), venue=venue, situation=situation, pp=pp)\n",
    "        time = calculate_time(Game(game), None)\n",
    "        if res is not None:\n",
    "            nw = network.process_graph_for_analysis(res[\"position_pass_network\"], make_undirected=True)\n",
    "            time = calculate_time(Game(game), pp)\n",
    "            yield [game, venue.value, situation.value, len(nw.nodes), nx.is_connected(nw),\n",
    "                  sum(w for (_, _, w) in nw.edges.data(\"n_passes\")), time]"
   ]
  },
  {
   "cell_type": "code",
   "execution_count": null,
   "id": "9f66ae07-3174-4d1f-ad7b-061f1131135c",
   "metadata": {},
   "outputs": [],
   "source": [
    "def power_play_networks():\n",
    "    for game, venue, pp in itertools.product(\n",
    "        GAMES,\n",
    "        [Venue.HOME, Venue.AWAY],\n",
    "        list(map(PowerPlay, range(1, MAX_PENALTY_NUMBER + 1)))\n",
    "    ):\n",
    "        res = build_networks(Game(game), venue=venue, situation=Situation.POWER_PLAY, pp=pp)\n",
    "        if res is not None:\n",
    "            nw = network.process_graph_for_analysis(res[\"position_pass_network\"], make_undirected=True)\n",
    "            time = calculate_time(Game(game), [pp])\n",
    "            if len(nw.nodes) > 0:\n",
    "                yield [game, venue.value, f\"PP {pp.penalty_no}\", len(nw.nodes), nx.is_connected(nw), \n",
    "                       sum(w for (_, _, w) in nw.edges.data(\"n_passes\")), time]"
   ]
  },
  {
   "cell_type": "code",
   "execution_count": null,
   "id": "3c0bb66d-0e8c-4ada-903b-4f8055a0480c",
   "metadata": {},
   "outputs": [],
   "source": [
    "def penalty_kill_networks():\n",
    "    for game, venue, pp in itertools.product(\n",
    "        GAMES,\n",
    "        [Venue.HOME, Venue.AWAY],\n",
    "        list(map(PowerPlay, range(1, MAX_PENALTY_NUMBER + 1)))\n",
    "    ):\n",
    "        res = build_networks(Game(game), venue=venue, situation=Situation.PENALTY_KILL, pp=pp)\n",
    "        if res is not None:\n",
    "            nw = network.process_graph_for_analysis(res[\"position_pass_network\"], make_undirected=True)\n",
    "            time = calculate_time(Game(game), [pp])\n",
    "            if len(nw.nodes) > 0:\n",
    "                yield [game, venue.value, f\"PK {pp.penalty_no}\", len(nw.nodes), nx.is_connected(nw), \n",
    "                       sum(w for (_, _, w) in nw.edges.data(\"n_passes\")), time]"
   ]
  },
  {
   "cell_type": "code",
   "execution_count": null,
   "id": "9f2eeece-16f9-408e-a49c-aac0b4551438",
   "metadata": {},
   "outputs": [],
   "source": [
    "regular_network_stats = pd.DataFrame(list(regular_networks()), columns = [\"Game\", \"Venue\", \"Situation\", \"#Nodes\", \"Connected-P\", \"#Passes\", \"Time\"])\n",
    "power_play_network_stats = pd.DataFrame(list(power_play_networks()), columns = [\"Game\", \"Venue\", \"Situation\", \"#Nodes\", \"Connected-P\", \"#Passes\", \"Time\"])\n",
    "penalty_kill_network_stats = pd.DataFrame(list(penalty_kill_networks()), columns = [\"Game\", \"Venue\", \"Situation\", \"#Nodes\", \"Connected-P\", \"#Passes\", \"Time\"])"
   ]
  },
  {
   "cell_type": "code",
   "execution_count": null,
   "id": "ff466037-85eb-4ae2-a1e7-1f0bd4aab19a",
   "metadata": {},
   "outputs": [],
   "source": [
    "regular_network_stats"
   ]
  },
  {
   "cell_type": "code",
   "execution_count": null,
   "id": "15d6147a-79b3-4147-85f5-1ba3bd469160",
   "metadata": {},
   "outputs": [],
   "source": [
    "power_play_network_stats"
   ]
  },
  {
   "cell_type": "code",
   "execution_count": null,
   "id": "15084e03-2d2a-4c4d-8999-f463c4f219aa",
   "metadata": {},
   "outputs": [],
   "source": [
    "penalty_kill_network_stats"
   ]
  },
  {
   "cell_type": "code",
   "execution_count": null,
   "id": "6189efba-6b63-48e7-b0e2-3928d027b53d",
   "metadata": {},
   "outputs": [],
   "source": []
  }
 ],
 "metadata": {
  "kernelspec": {
   "display_name": "Python 3 (ipykernel)",
   "language": "python",
   "name": "python3"
  },
  "language_info": {
   "codemirror_mode": {
    "name": "ipython",
    "version": 3
   },
   "file_extension": ".py",
   "mimetype": "text/x-python",
   "name": "python",
   "nbconvert_exporter": "python",
   "pygments_lexer": "ipython3",
   "version": "3.11.5"
  }
 },
 "nbformat": 4,
 "nbformat_minor": 5
}
