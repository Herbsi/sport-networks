{
 "cells": [
  {
   "cell_type": "code",
   "execution_count": 1,
   "id": "70c4a8e6-4d49-4efe-80fd-f54f3ded652a",
   "metadata": {},
   "outputs": [],
   "source": [
    "from datetime import date\n",
    "from enum import Enum\n",
    "\n",
    "import matplotlib.mlab as mlab\n",
    "import matplotlib.pyplot as plt\n",
    "import networkx as nx\n",
    "import numpy as np\n",
    "import pandas as pd\n",
    "from scipy import stats\n",
    "\n",
    "import network\n",
    "from preprocess_data import Game, Situation, calculate_time, read_networks"
   ]
  },
  {
   "cell_type": "code",
   "execution_count": 2,
   "id": "fee3ebd5-c611-4cfe-b20e-2cf5bdb3db7c",
   "metadata": {},
   "outputs": [],
   "source": [
    "def regular_networks():\n",
    "    for nw in read_networks(Situation.REGULAR):\n",
    "        time = calculate_time(nw.graph[\"game\"], None)\n",
    "        yield [\n",
    "            game,\n",
    "            venue.value,\n",
    "            situation.value,\n",
    "            len(nw.nodes),\n",
    "            nx.is_connected(nw),\n",
    "            sum(w for (_, _, w) in nw.edges.data(\"n_passes\")),\n",
    "            time,\n",
    "        ]"
   ]
  },
  {
   "cell_type": "code",
   "execution_count": 3,
   "id": "9f66ae07-3174-4d1f-ad7b-061f1131135c",
   "metadata": {},
   "outputs": [],
   "source": [
    "def power_play_networks():\n",
    "    for nw in read_networks(Situation.POWER_PLAY):\n",
    "        time = calculate_time(nw.graph[\"game\"], [nw.graph[\"pp\"]])\n",
    "        if len(nw.nodes) > 0:\n",
    "            yield [\n",
    "                game,\n",
    "                venue.value,\n",
    "                f\"PP {pp.penalty_no}\",\n",
    "                len(nw.nodes),\n",
    "                nx.is_connected(nw),\n",
    "                sum(w for (_, _, w) in nw.edges.data(\"n_passes\")),\n",
    "                time,\n",
    "            ]"
   ]
  },
  {
   "cell_type": "code",
   "execution_count": 4,
   "id": "3c0bb66d-0e8c-4ada-903b-4f8055a0480c",
   "metadata": {},
   "outputs": [],
   "source": [
    "def penalty_kill_networks():\n",
    "    for nw in read_networks(Situation.PENALTY_KILL):\n",
    "        time = calculate_time(nw.graph[\"game\"], [nw.graph[\"pp\"]])\n",
    "        if len(nw.nodes) > 0:\n",
    "            yield [\n",
    "                game,\n",
    "                venue.value,\n",
    "                f\"PK {pp.penalty_no}\",\n",
    "                len(nw.nodes),\n",
    "                nx.is_connected(nw),\n",
    "                sum(w for (_, _, w) in nw.edges.data(\"n_passes\")),\n",
    "                time,\n",
    "            ]"
   ]
  },
  {
   "cell_type": "code",
   "execution_count": 5,
   "id": "9f2eeece-16f9-408e-a49c-aac0b4551438",
   "metadata": {},
   "outputs": [
    {
     "ename": "NameError",
     "evalue": "name 'game' is not defined",
     "output_type": "error",
     "traceback": [
      "\u001b[0;31m---------------------------------------------------------------------------\u001b[0m",
      "\u001b[0;31mNameError\u001b[0m                                 Traceback (most recent call last)",
      "Cell \u001b[0;32mIn[5], line 1\u001b[0m\n\u001b[0;32m----> 1\u001b[0m regular_network_stats \u001b[38;5;241m=\u001b[39m pd\u001b[38;5;241m.\u001b[39mDataFrame(\u001b[38;5;28;43mlist\u001b[39;49m\u001b[43m(\u001b[49m\u001b[43mregular_networks\u001b[49m\u001b[43m(\u001b[49m\u001b[43m)\u001b[49m\u001b[43m)\u001b[49m, columns \u001b[38;5;241m=\u001b[39m [\u001b[38;5;124m\"\u001b[39m\u001b[38;5;124mGame\u001b[39m\u001b[38;5;124m\"\u001b[39m, \u001b[38;5;124m\"\u001b[39m\u001b[38;5;124mVenue\u001b[39m\u001b[38;5;124m\"\u001b[39m, \u001b[38;5;124m\"\u001b[39m\u001b[38;5;124mSituation\u001b[39m\u001b[38;5;124m\"\u001b[39m, \u001b[38;5;124m\"\u001b[39m\u001b[38;5;124m#Nodes\u001b[39m\u001b[38;5;124m\"\u001b[39m, \u001b[38;5;124m\"\u001b[39m\u001b[38;5;124mConnected-P\u001b[39m\u001b[38;5;124m\"\u001b[39m, \u001b[38;5;124m\"\u001b[39m\u001b[38;5;124m#Passes\u001b[39m\u001b[38;5;124m\"\u001b[39m, \u001b[38;5;124m\"\u001b[39m\u001b[38;5;124mTime\u001b[39m\u001b[38;5;124m\"\u001b[39m])\n\u001b[1;32m      2\u001b[0m power_play_network_stats \u001b[38;5;241m=\u001b[39m pd\u001b[38;5;241m.\u001b[39mDataFrame(\u001b[38;5;28mlist\u001b[39m(power_play_networks()), columns \u001b[38;5;241m=\u001b[39m [\u001b[38;5;124m\"\u001b[39m\u001b[38;5;124mGame\u001b[39m\u001b[38;5;124m\"\u001b[39m, \u001b[38;5;124m\"\u001b[39m\u001b[38;5;124mVenue\u001b[39m\u001b[38;5;124m\"\u001b[39m, \u001b[38;5;124m\"\u001b[39m\u001b[38;5;124mSituation\u001b[39m\u001b[38;5;124m\"\u001b[39m, \u001b[38;5;124m\"\u001b[39m\u001b[38;5;124m#Nodes\u001b[39m\u001b[38;5;124m\"\u001b[39m, \u001b[38;5;124m\"\u001b[39m\u001b[38;5;124mConnected-P\u001b[39m\u001b[38;5;124m\"\u001b[39m, \u001b[38;5;124m\"\u001b[39m\u001b[38;5;124m#Passes\u001b[39m\u001b[38;5;124m\"\u001b[39m, \u001b[38;5;124m\"\u001b[39m\u001b[38;5;124mTime\u001b[39m\u001b[38;5;124m\"\u001b[39m])\n\u001b[1;32m      3\u001b[0m penalty_kill_network_stats \u001b[38;5;241m=\u001b[39m pd\u001b[38;5;241m.\u001b[39mDataFrame(\u001b[38;5;28mlist\u001b[39m(penalty_kill_networks()), columns \u001b[38;5;241m=\u001b[39m [\u001b[38;5;124m\"\u001b[39m\u001b[38;5;124mGame\u001b[39m\u001b[38;5;124m\"\u001b[39m, \u001b[38;5;124m\"\u001b[39m\u001b[38;5;124mVenue\u001b[39m\u001b[38;5;124m\"\u001b[39m, \u001b[38;5;124m\"\u001b[39m\u001b[38;5;124mSituation\u001b[39m\u001b[38;5;124m\"\u001b[39m, \u001b[38;5;124m\"\u001b[39m\u001b[38;5;124m#Nodes\u001b[39m\u001b[38;5;124m\"\u001b[39m, \u001b[38;5;124m\"\u001b[39m\u001b[38;5;124mConnected-P\u001b[39m\u001b[38;5;124m\"\u001b[39m, \u001b[38;5;124m\"\u001b[39m\u001b[38;5;124m#Passes\u001b[39m\u001b[38;5;124m\"\u001b[39m, \u001b[38;5;124m\"\u001b[39m\u001b[38;5;124mTime\u001b[39m\u001b[38;5;124m\"\u001b[39m])\n",
      "Cell \u001b[0;32mIn[2], line 4\u001b[0m, in \u001b[0;36mregular_networks\u001b[0;34m()\u001b[0m\n\u001b[1;32m      2\u001b[0m \u001b[38;5;28;01mfor\u001b[39;00m nw \u001b[38;5;129;01min\u001b[39;00m read_networks(Situation\u001b[38;5;241m.\u001b[39mREGULAR):\n\u001b[1;32m      3\u001b[0m     time \u001b[38;5;241m=\u001b[39m calculate_time(nw\u001b[38;5;241m.\u001b[39mgraph[\u001b[38;5;124m\"\u001b[39m\u001b[38;5;124mgame\u001b[39m\u001b[38;5;124m\"\u001b[39m], \u001b[38;5;28;01mNone\u001b[39;00m)\n\u001b[0;32m----> 4\u001b[0m     \u001b[38;5;28;01myield\u001b[39;00m [\u001b[43mgame\u001b[49m, venue\u001b[38;5;241m.\u001b[39mvalue, situation\u001b[38;5;241m.\u001b[39mvalue, \u001b[38;5;28mlen\u001b[39m(nw\u001b[38;5;241m.\u001b[39mnodes), nx\u001b[38;5;241m.\u001b[39mis_connected(nw),\n\u001b[1;32m      5\u001b[0m           \u001b[38;5;28msum\u001b[39m(w \u001b[38;5;28;01mfor\u001b[39;00m (_, _, w) \u001b[38;5;129;01min\u001b[39;00m nw\u001b[38;5;241m.\u001b[39medges\u001b[38;5;241m.\u001b[39mdata(\u001b[38;5;124m\"\u001b[39m\u001b[38;5;124mn_passes\u001b[39m\u001b[38;5;124m\"\u001b[39m)), time]\n",
      "\u001b[0;31mNameError\u001b[0m: name 'game' is not defined"
     ]
    }
   ],
   "source": [
    "regular_network_stats = pd.DataFrame(\n",
    "    list(regular_networks()), columns=[\"Game\", \"Venue\", \"Situation\", \"#Nodes\", \"Connected-P\", \"#Passes\", \"Time\"]\n",
    ")\n",
    "power_play_network_stats = pd.DataFrame(\n",
    "    list(power_play_networks()), columns=[\"Game\", \"Venue\", \"Situation\", \"#Nodes\", \"Connected-P\", \"#Passes\", \"Time\"]\n",
    ")\n",
    "penalty_kill_network_stats = pd.DataFrame(\n",
    "    list(penalty_kill_networks()), columns=[\"Game\", \"Venue\", \"Situation\", \"#Nodes\", \"Connected-P\", \"#Passes\", \"Time\"]\n",
    ")"
   ]
  },
  {
   "cell_type": "code",
   "execution_count": null,
   "id": "ff466037-85eb-4ae2-a1e7-1f0bd4aab19a",
   "metadata": {},
   "outputs": [],
   "source": [
    "regular_network_stats"
   ]
  },
  {
   "cell_type": "code",
   "execution_count": null,
   "id": "15d6147a-79b3-4147-85f5-1ba3bd469160",
   "metadata": {},
   "outputs": [],
   "source": [
    "power_play_network_stats[:16]"
   ]
  },
  {
   "cell_type": "code",
   "execution_count": null,
   "id": "15084e03-2d2a-4c4d-8999-f463c4f219aa",
   "metadata": {},
   "outputs": [],
   "source": [
    "penalty_kill_network_stats"
   ]
  },
  {
   "cell_type": "code",
   "execution_count": null,
   "id": "6189efba-6b63-48e7-b0e2-3928d027b53d",
   "metadata": {},
   "outputs": [],
   "source": []
  }
 ],
 "metadata": {
  "kernelspec": {
   "display_name": "Python 3 (ipykernel)",
   "language": "python",
   "name": "python3"
  },
  "language_info": {
   "codemirror_mode": {
    "name": "ipython",
    "version": 3
   },
   "file_extension": ".py",
   "mimetype": "text/x-python",
   "name": "python",
   "nbconvert_exporter": "python",
   "pygments_lexer": "ipython3",
   "version": "3.10.13"
  }
 },
 "nbformat": 4,
 "nbformat_minor": 5
}
