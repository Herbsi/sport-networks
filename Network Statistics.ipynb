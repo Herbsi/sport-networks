{
 "cells": [
  {
   "cell_type": "code",
   "execution_count": null,
   "id": "70c4a8e6-4d49-4efe-80fd-f54f3ded652a",
   "metadata": {},
   "outputs": [],
   "source": [
    "from datetime import date\n",
    "from enum import Enum\n",
    "\n",
    "import matplotlib.pyplot as plt\n",
    "import networkx as nx\n",
    "import numpy as np\n",
    "import pandas as pd\n",
    "from scipy import stats\n",
    "\n",
    "import network\n",
    "from preprocess_data import Game, Venue, PowerPlay, Situation, calculate_time, read_networks, directed_to_undirected"
   ]
  },
  {
   "cell_type": "code",
   "execution_count": null,
   "id": "fee3ebd5-c611-4cfe-b20e-2cf5bdb3db7c",
   "metadata": {},
   "outputs": [],
   "source": [
    "def regular_networks():\n",
    "    for nw in read_networks(Situation.REGULAR):\n",
    "        yield nw"
   ]
  },
  {
   "cell_type": "code",
   "execution_count": null,
   "id": "9f66ae07-3174-4d1f-ad7b-061f1131135c",
   "metadata": {},
   "outputs": [],
   "source": [
    "def power_play_networks():\n",
    "    for nw in read_networks(Situation.POWER_PLAY):\n",
    "        yield nw"
   ]
  },
  {
   "cell_type": "code",
   "execution_count": null,
   "id": "3c0bb66d-0e8c-4ada-903b-4f8055a0480c",
   "metadata": {},
   "outputs": [],
   "source": [
    "def penalty_kill_networks():\n",
    "    for nw in read_networks(Situation.PENALTY_KILL):\n",
    "        yield nw"
   ]
  },
  {
   "cell_type": "code",
   "execution_count": null,
   "id": "ff466037-85eb-4ae2-a1e7-1f0bd4aab19a",
   "metadata": {},
   "outputs": [],
   "source": [
    "positions = [\"Left Defense\", \"Right Defense\", \"Left Wing\", \"Center\", \"Right Wing\"]"
   ]
  },
  {
   "cell_type": "code",
   "execution_count": null,
   "id": "44ad043e-b53d-402e-84e8-7950bb36d76f",
   "metadata": {},
   "outputs": [],
   "source": [
    "# Regular Networks: Degree distribution\n",
    "fig = plt.figure(figsize=(8, 6))\n",
    "\n",
    "for position, ax in zip(positions, [(1, 1), (1, 3), (0, 0), (0, 2), (0, 4)]):\n",
    "    ax = plt.subplot2grid((2, 6), ax, colspan=2)\n",
    "    x_reg = np.array([nw.degree(position, network.Weight.N_PASSES.value) / nw.time for nw in regular_networks()])\n",
    "    x_pp  = [nw.degree(position, network.Weight.N_PASSES.value) / nw.time for nw in power_play_networks()]\n",
    "    x_pp = np.array([d for d in x_pp if isinstance(d, float)])\n",
    "    x_pk  = [nw.degree(position, network.Weight.N_PASSES.value) / nw.time for nw in penalty_kill_networks()]\n",
    "    x_pk = np.array([d for d in x_pk if isinstance(d, float)])\n",
    "    x = [x_reg, x_pp, x_pk]\n",
    "    n, bins, patches = ax.hist(x, histtype='bar', color=[\"grey\", \"steelblue\", \"brown\"])\n",
    "    ax.set_title(position)\n",
    "    # ax.set_ylabel(position)\n",
    "    \n",
    "fig.legend([\"Regular\", \"Power Play\", \"Penalty Kill\"], bbox_to_anchor=(0.95, 1.12))\n",
    "plt.subplots_adjust(wspace=1, hspace=0.3)\n",
    "plt.tight_layout()\n",
    "plt.show()"
   ]
  },
  {
   "cell_type": "code",
   "execution_count": null,
   "id": "e0f8b704-9cb4-4e9e-ac40-5ae8930f2085",
   "metadata": {},
   "outputs": [],
   "source": [
    "# Regular Networks: Shot distribution\n",
    "fig, axs = plt.subplots(1, 1)\n",
    "\n",
    "x_reg = np.array([shots_per_second(nw) for nw in regular_networks()])\n",
    "x_pp  = np.array([shots_per_second(nw) for nw in power_play_networks()])\n",
    "x_pk  = np.array([shots_per_second(nw) for nw in penalty_kill_networks()])\n",
    "x = [x_reg, x_pp, x_pk]\n",
    "n, bins, patches = axs.hist(x, histtype='bar', color=[\"grey\", \"steelblue\", \"brown\"])\n",
    "axs.legend([\"Regular\", \"Power Play\", \"Penalty Kill\"])\n",
    "\n",
    "plt.show()"
   ]
  }
 ],
 "metadata": {
  "kernelspec": {
   "display_name": "Python 3 (ipykernel)",
   "language": "python",
   "name": "python3"
  },
  "language_info": {
   "codemirror_mode": {
    "name": "ipython",
    "version": 3
   },
   "file_extension": ".py",
   "mimetype": "text/x-python",
   "name": "python",
   "nbconvert_exporter": "python",
   "pygments_lexer": "ipython3",
   "version": "3.11.5"
  }
 },
 "nbformat": 4,
 "nbformat_minor": 5
}
