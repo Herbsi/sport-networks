{
 "cells": [
  {
   "cell_type": "code",
   "execution_count": null,
   "id": "70c4a8e6-4d49-4efe-80fd-f54f3ded652a",
   "metadata": {},
   "outputs": [],
   "source": [
    "import itertools\n",
    "import networkx as nx\n",
    "import numpy as np\n",
    "\n",
    "import network\n",
    "\n",
    "from preprocess_data import *\n",
    "from datetime import date\n",
    "from enum import Enum\n",
    "\n",
    "import matplotlib.mlab as mlab\n",
    "import matplotlib.pyplot as plt\n",
    "\n",
    "from scipy import stats"
   ]
  },
  {
   "cell_type": "code",
   "execution_count": null,
   "id": "fee3ebd5-c611-4cfe-b20e-2cf5bdb3db7c",
   "metadata": {},
   "outputs": [],
   "source": [
    "def regular_networks():\n",
    "    for game, venue, (situation, pp) in itertools.product(\n",
    "        GAMES,\n",
    "        [Venue.HOME, Venue.AWAY],\n",
    "        [(Situation.REGULAR, None)]\n",
    "    ):\n",
    "        res = build_networks(Game(game), venue=venue, situation=situation, pp=pp)\n",
    "        if res is not None:\n",
    "            nw = network.process_graph_for_analysis(res[\"position_pass_network\"], make_undirected=False)\n",
    "            degrees = dict(nw.degree(weight=Weight.N_PASSES))\n",
    "            dm = network.degree_mean(nw)\n",
    "            dstd = network.degree_std(nw)\n",
    "            time = calculate_time(Game(game), None)\n",
    "            yield {\"degree_mean\": degree_mean, \"degree_std\": degree_std, \"time\": time}"
   ]
  },
  {
   "cell_type": "code",
   "execution_count": null,
   "id": "9f66ae07-3174-4d1f-ad7b-061f1131135c",
   "metadata": {},
   "outputs": [],
   "source": [
    "def power_play_networks():\n",
    "    for game, venue, pp in itertools.product(\n",
    "        GAMES,\n",
    "        [Venue.HOME, Venue.AWAY],\n",
    "        list(map(PowerPlay, range(1, MAX_PENALTY_NUMBER + 1)))\n",
    "    ):\n",
    "        res = build_networks(Game(game), venue=venue, situation=Situation.POWER_PLAY, pp=pp)\n",
    "        if res is not None:\n",
    "            nw = network.process_graph_for_analysis(res[\"position_pass_network\"], make_undirected=False)\n",
    "            if len(nw.nodes) == 5:\n",
    "                degree_man = network.degree_mean(nw)\n",
    "                degree_std = network.degree_std(nw)\n",
    "                time = calculate_time(Game(game), [pp])\n",
    "                yield {\"degree_mean\": dm, \"degree_std\": degree_std, \"time\": time}"
   ]
  },
  {
   "cell_type": "code",
   "execution_count": null,
   "id": "5983f718-289b-4f11-9d17-5eff72e1f02c",
   "metadata": {},
   "outputs": [],
   "source": [
    "# (Weighted) Degree Mean: Regular vs Power Play\n",
    "fig, axs = plt.subplots(2, 1, sharex=True, sharey=True)\n",
    "fig.set_figheight(10)\n",
    "fig.set_figwidth(15)\n",
    "\n",
    "x_reg = [stats[\"degree_mean\"] / stats[\"time\"] for stats in regular_networks()]\n",
    "x_pp  = [stats[\"degree_mean\"] / stats[\"time\"] for stats in power_play_networks()]\n",
    "n, bins, patches = axs[0].hist(x_reg, facecolor='blue', alpha=0.5)\n",
    "n, bins, patches = axs[1].hist(x_pp, facecolor='blue', alpha=0.5)\n",
    "axs[0].set_title(\"Regular Networks\")\n",
    "axs[1].set_title(\"Power Play Networks\")\n",
    "\n",
    "plt.show()\n",
    "\n",
    "stats.ttest_ind(x_reg, x_pp, alternative=\"less\")"
   ]
  },
  {
   "cell_type": "code",
   "execution_count": null,
   "id": "a899f833-6895-47d7-870f-2f1620ac8a6e",
   "metadata": {},
   "outputs": [],
   "source": [
    "# (Weighted) Degree Std: Regular vs Power Play\n",
    "fig, axs = plt.subplots(2, 1, sharex=True, sharey=True)\n",
    "fig.set_figheight(10)\n",
    "fig.set_figwidth(15)\n",
    "\n",
    "x_reg = [stats[\"degree_std\"] / stats[\"time\"] for stats in regular_networks()]\n",
    "x_pp  = [stats[\"degree_std\"] / stats[\"time\"] for stats in power_play_networks()]\n",
    "n, bins, patches = axs[0].hist(x_reg, facecolor='blue', alpha=0.5)\n",
    "n, bins, patches = axs[1].hist(x_pp, facecolor='blue', alpha=0.5)\n",
    "axs[0].set_title(\"Regular Networks\")\n",
    "axs[1].set_title(\"Power Play Networks\")\n",
    "\n",
    "plt.show()\n",
    "\n",
    "stats.ttest_ind(x_reg, x_pp, alternative=\"less\")"
   ]
  },
  {
   "cell_type": "code",
   "execution_count": null,
   "id": "fd906831-8106-4851-9add-6a0f4fa5945a",
   "metadata": {},
   "outputs": [],
   "source": []
  }
 ],
 "metadata": {
  "kernelspec": {
   "display_name": "Python 3 (ipykernel)",
   "language": "python",
   "name": "python3"
  },
  "language_info": {
   "codemirror_mode": {
    "name": "ipython",
    "version": 3
   },
   "file_extension": ".py",
   "mimetype": "text/x-python",
   "name": "python",
   "nbconvert_exporter": "python",
   "pygments_lexer": "ipython3",
   "version": "3.11.5"
  }
 },
 "nbformat": 4,
 "nbformat_minor": 5
}
