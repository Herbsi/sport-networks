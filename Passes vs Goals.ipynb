{
 "cells": [
  {
   "cell_type": "code",
   "execution_count": null,
   "id": "f7b5b8a7-2215-4377-8d2f-19fc32c04cd6",
   "metadata": {},
   "outputs": [],
   "source": [
    "import numpy as np\n",
    "import pandas as pd\n",
    "\n",
    "from sklearn.linear_model import LinearRegression\n",
    "\n",
    "from preprocess_data import *\n",
    "\n",
    "import matplotlib.pyplot as plt"
   ]
  },
  {
   "cell_type": "code",
   "execution_count": null,
   "id": "b0560c72-0b60-402e-af08-f00aefc223ae",
   "metadata": {},
   "outputs": [],
   "source": [
    "play_by_play_data = pd.read_csv(os.path.join(TRACKING_DIR, PLAY_BY_PLAY_DATA_FILE))\n",
    "power_play_info = pd.read_csv(os.path.join(PBP_DIR, POWER_PLAY_INFO_FILE), comment=\"#\")"
   ]
  },
  {
   "cell_type": "code",
   "execution_count": null,
   "id": "f78a4fc5-fb66-4c14-9630-74a63abbc151",
   "metadata": {},
   "outputs": [],
   "source": [
    "def regular():\n",
    "    for game, venue in itertools.product(\n",
    "        [Game(game) for game in GAMES],\n",
    "        [Venue.HOME, Venue.AWAY],\n",
    "    ):\n",
    "        events = play_by_play_data[play_by_play_data[\"game_date\"] == game.game_date]\n",
    "        match venue:\n",
    "            case venue.HOME:\n",
    "                events = events[events[\"team_name\"] == game.home]\n",
    "            case venue.AWAY:\n",
    "                events = events[events[\"team_name\"] == game.away]\n",
    "    \n",
    "        events = events[events[\"situation_type\"] == Situation.REGULAR.value]\n",
    "        \n",
    "        passes = events[events[\"event\"] == \"Play\"]\n",
    "        shots = events[events[\"event\"] == \"Shot\"]\n",
    "\n",
    "        time = calculate_time(game, None)\n",
    "    \n",
    "        yield (len(passes) / time, len(shots) / time)"
   ]
  },
  {
   "cell_type": "code",
   "execution_count": null,
   "id": "f5e937c0-f845-4987-ae64-14d159794379",
   "metadata": {},
   "outputs": [],
   "source": [
    "def power_play():\n",
    "    for game, pp in itertools.product(\n",
    "        [Game(game) for game in GAMES],\n",
    "        [PowerPlay(penalty_no) for penalty_no in range(1, MAX_PENALTY_NUMBER + 1)],\n",
    "        # [Venue.HOME, Venue.AWAY],\n",
    "    ):\n",
    "        events = play_by_play_data[play_by_play_data[\"game_date\"] == game.game_date]\n",
    "        events = events[events[\"situation_type\"] == Situation.POWER_PLAY.value]\n",
    "\n",
    "        \n",
    "        # Find the unique* row in power_play_info corresponding to the current game and penalty_number in pp.\n",
    "        # If it does not exist; just return None because there is no network to build.\n",
    "        try:\n",
    "            pp_df = power_play_info[\n",
    "                (power_play_info[\"game_name\"] == game.game) & (power_play_info[\"penalty_number\"] == pp.penalty_no)\n",
    "            ].iloc[0]\n",
    "        except IndexError:\n",
    "            # Skip\n",
    "            continue\n",
    "\n",
    "        # NOTE: Wrote custom logic to determine plays that happen as part of a PP because the time calculation stuff from the Data_Clean.ipynb notebook did not seem to work correctly; maybe I just made a mistake though.\n",
    "        if pp_df[\"start_period\"] != pp_df[\"end_period\"]:\n",
    "            # Take events that are either in the start_period and the clock is below the PP (clock is counting down)\n",
    "            events = events[\n",
    "                (\n",
    "                    (events[\"period\"] == pp_df[\"start_period\"])\n",
    "                    & (pp_df[\"start_game_clock_seconds\"] >= events[\"clock_seconds\"])\n",
    "                )\n",
    "                # or events in the end_period with the clock above the end time of the PP\n",
    "                | (\n",
    "                    (events[\"period\"] == pp_df[\"end_period\"])\n",
    "                    & (events[\"clock_seconds\"] >= pp_df[\"end_game_clock_seconds\"])\n",
    "                )\n",
    "            ]\n",
    "\n",
    "        else:\n",
    "            # Take events in the same period (start_period == end_period except for the one exception)\n",
    "            # and PP-Start above current time and PP-END below current time\n",
    "            events = events[\n",
    "                (events[\"period\"] == pp_df[\"start_period\"])\n",
    "                & (pp_df[\"start_game_clock_seconds\"] >= events[\"clock_seconds\"])\n",
    "                & (events[\"clock_seconds\"] >= pp_df[\"end_game_clock_seconds\"])\n",
    "            ]\n",
    "\n",
    "        # HACK: Assume the team with more events during the PowerPlay is the one doing it.\n",
    "        # This way, power_play() only returns 36 values, one for each PP, instead of 72 with a bunch of 0 inside\n",
    "        # (Actually, 33 because three power plays do not have situation_type == \"5 on 5\", so they are being filtered)\n",
    "        home_event_cnt = len(events[events[\"team_name\"] == game.home])\n",
    "        away_event_cnt = len(events[events[\"team_name\"] == game.away])\n",
    "\n",
    "        if home_event_cnt > away_event_cnt:\n",
    "            events = events[events[\"team_name\"] == game.home]\n",
    "        else:\n",
    "            events = events[events[\"team_name\"] == game.away]\n",
    "        \n",
    "        passes = events[events[\"event\"] == \"Play\"]\n",
    "        shots = events[events[\"event\"] == \"Shot\"]\n",
    "\n",
    "        time = calculate_time(game, [pp])\n",
    "\n",
    "        if len(passes) > 0:\n",
    "            yield (len(passes) / time, len(shots) / time)"
   ]
  },
  {
   "cell_type": "code",
   "execution_count": null,
   "id": "2291f98f-9b7f-4bdb-af1d-3cbeb673b32e",
   "metadata": {},
   "outputs": [],
   "source": [
    "plt.scatter(*zip(*regular()))\n",
    "plt.show()\n",
    "x_reg, y_reg = np.array([*zip(*regular())])\n",
    "print(np.corrcoef(x_reg, y_reg))\n",
    "x_reg = x_reg.reshape(-1, 1)\n",
    "lm = LinearRegression().fit(x_reg, y_reg)\n",
    "lm.score(x_reg, y_reg)"
   ]
  },
  {
   "cell_type": "code",
   "execution_count": null,
   "id": "9ec69142-c95d-49f0-8d93-d931e4d9efc2",
   "metadata": {},
   "outputs": [],
   "source": [
    "plt.scatter(*zip(*power_play()))\n",
    "plt.show()\n",
    "x_pp, y_pp = np.array([*zip(*power_play())])\n",
    "# TODO: Correlation is *lower*, but I do not know how to interpret that yet.\n",
    "print(np.corrcoef(x_pp, y_pp))\n",
    "x_pp = x_pp.reshape(-1, 1)\n",
    "lm = LinearRegression().fit(x_pp, y_pp)\n",
    "lm.score(x_pp, y_pp)"
   ]
  }
 ],
 "metadata": {
  "kernelspec": {
   "display_name": "Python 3 (ipykernel)",
   "language": "python",
   "name": "python3"
  },
  "language_info": {
   "codemirror_mode": {
    "name": "ipython",
    "version": 3
   },
   "file_extension": ".py",
   "mimetype": "text/x-python",
   "name": "python",
   "nbconvert_exporter": "python",
   "pygments_lexer": "ipython3",
   "version": "3.11.5"
  }
 },
 "nbformat": 4,
 "nbformat_minor": 5
}
