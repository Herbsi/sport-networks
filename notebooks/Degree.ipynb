{
 "cells": [
  {
   "cell_type": "code",
   "execution_count": null,
   "id": "70c4a8e6-4d49-4efe-80fd-f54f3ded652a",
   "metadata": {},
   "outputs": [],
   "source": [
    "import networkx as nx\n",
    "import numpy as np\n",
    "\n",
    "import network\n",
    "\n",
    "from preprocess_data import read_networks, Situation, Game, PowerPlay, calculate_time\n",
    "from datetime import date\n",
    "from enum import Enum\n",
    "\n",
    "import matplotlib.mlab as mlab\n",
    "import matplotlib.pyplot as plt\n",
    "\n",
    "from scipy import stats"
   ]
  },
  {
   "cell_type": "code",
   "execution_count": null,
   "id": "fee3ebd5-c611-4cfe-b20e-2cf5bdb3db7c",
   "metadata": {},
   "outputs": [],
   "source": [
    "def regular_networks():\n",
    "    for nw in read_networks(Situation.REGULAR):\n",
    "        degree_mean = network.degree_mean(nw)\n",
    "        degree_std = network.degree_std(nw)\n",
    "        time = calculate_time(nw.graph[\"game\"], None)\n",
    "        yield {\"degree_mean\": degree_mean, \"degree_std\": degree_std, \"time\": time}"
   ]
  },
  {
   "cell_type": "code",
   "execution_count": null,
   "id": "9f66ae07-3174-4d1f-ad7b-061f1131135c",
   "metadata": {},
   "outputs": [],
   "source": [
    "def power_play_networks():\n",
    "    for nw in read_networks(Situation.POWER_PLAY):\n",
    "        if len(nw.nodes) > 0:\n",
    "            degree_mean = network.degree_mean(nw)\n",
    "            degree_std = network.degree_std(nw)\n",
    "            time = calculate_time(nw.graph[\"game\"], [nw.graph[\"pp\"]])\n",
    "            yield {\"degree_mean\": degree_mean, \"degree_std\": degree_std, \"time\": time}"
   ]
  },
  {
   "cell_type": "code",
   "execution_count": null,
   "id": "6c7d1b8b-8295-4fc2-a605-46f295e477e6",
   "metadata": {},
   "outputs": [],
   "source": [
    "def penalty_kill_networks():\n",
    "    for nw in read_networks(Situation.PENALTY_KILL):\n",
    "        if len(nw.nodes) > 0:\n",
    "            degree_mean = network.degree_mean(nw)\n",
    "            degree_std = network.degree_std(nw)\n",
    "            time = calculate_time(nw.graph[\"game\"], [nw.graph[\"pp\"]])\n",
    "            yield {\"degree_mean\": degree_mean, \"degree_std\": degree_std, \"time\": time}"
   ]
  },
  {
   "cell_type": "code",
   "execution_count": null,
   "id": "5983f718-289b-4f11-9d17-5eff72e1f02c",
   "metadata": {},
   "outputs": [],
   "source": [
    "# (Weighted) Degree Mean: Regular vs Power Play\n",
    "fig, axs = plt.subplots(2, 1, sharex=True, sharey=True)\n",
    "fig.set_figheight(10)\n",
    "fig.set_figwidth(15)\n",
    "\n",
    "x_reg = [stats[\"degree_mean\"] / stats[\"time\"] for stats in regular_networks()]\n",
    "x_pp  = [stats[\"degree_mean\"] / stats[\"time\"] for stats in power_play_networks()]\n",
    "n, bins, patches = axs[0].hist(x_reg, facecolor='blue', alpha=0.5)\n",
    "n, bins, patches = axs[1].hist(x_pp, facecolor='blue', alpha=0.5)\n",
    "axs[0].set_title(\"Regular Networks\")\n",
    "axs[1].set_title(\"Power Play Networks\")\n",
    "\n",
    "plt.show()\n",
    "\n",
    "stats.ttest_ind(x_reg, x_pp, alternative=\"less\")"
   ]
  },
  {
   "cell_type": "code",
   "execution_count": null,
   "id": "a899f833-6895-47d7-870f-2f1620ac8a6e",
   "metadata": {},
   "outputs": [],
   "source": [
    "# (Weighted) Degree Std: Regular vs Power Play\n",
    "fig, axs = plt.subplots(2, 1, sharex=True, sharey=True)\n",
    "fig.set_figheight(10)\n",
    "fig.set_figwidth(15)\n",
    "\n",
    "x_reg = [stats[\"degree_std\"] / stats[\"time\"] for stats in regular_networks()]\n",
    "x_pp  = [stats[\"degree_std\"] / stats[\"time\"] for stats in power_play_networks()]\n",
    "n, bins, patches = axs[0].hist(x_reg, facecolor='blue', alpha=0.5)\n",
    "n, bins, patches = axs[1].hist(x_pp, facecolor='blue', alpha=0.5)\n",
    "axs[0].set_title(\"Regular Networks\")\n",
    "axs[1].set_title(\"Power Play Networks\")\n",
    "\n",
    "plt.show()\n",
    "\n",
    "stats.ttest_ind(x_reg, x_pp, alternative=\"less\")"
   ]
  },
  {
   "cell_type": "code",
   "execution_count": null,
   "id": "fd906831-8106-4851-9add-6a0f4fa5945a",
   "metadata": {},
   "outputs": [],
   "source": [
    "# (Weighted) Degree Mean: Regular vs Penalty Kill\n",
    "fig, axs = plt.subplots(2, 1, sharex=True, sharey=True)\n",
    "fig.set_figheight(10)\n",
    "fig.set_figwidth(15)\n",
    "\n",
    "x_reg = [stats[\"degree_mean\"] / stats[\"time\"] for stats in regular_networks()]\n",
    "x_pk  = [stats[\"degree_mean\"] / stats[\"time\"] for stats in penalty_kill_networks()]\n",
    "n, bins, patches = axs[0].hist(x_reg, facecolor='blue', alpha=0.5)\n",
    "n, bins, patches = axs[1].hist(x_pk, facecolor='blue', alpha=0.5)\n",
    "axs[0].set_title(\"Regular Networks\")\n",
    "axs[1].set_title(\"Penalty Kill Networks\")\n",
    "\n",
    "plt.show()\n",
    "\n",
    "stats.ttest_ind(x_reg, x_pk, alternative=\"greater\")"
   ]
  },
  {
   "cell_type": "code",
   "execution_count": null,
   "id": "5e5ee2bb-9658-4bf9-b5ee-bf449044fef6",
   "metadata": {},
   "outputs": [],
   "source": []
  }
 ],
 "metadata": {
  "kernelspec": {
   "display_name": "Python 3 (ipykernel)",
   "language": "python",
   "name": "python3"
  },
  "language_info": {
   "codemirror_mode": {
    "name": "ipython",
    "version": 3
   },
   "file_extension": ".py",
   "mimetype": "text/x-python",
   "name": "python",
   "nbconvert_exporter": "python",
   "pygments_lexer": "ipython3",
   "version": "3.11.5"
  }
 },
 "nbformat": 4,
 "nbformat_minor": 5
}
