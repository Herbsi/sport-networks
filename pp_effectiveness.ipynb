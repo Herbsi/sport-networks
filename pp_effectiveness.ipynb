{
 "cells": [
  {
   "cell_type": "code",
   "execution_count": null,
   "metadata": {},
   "outputs": [],
   "source": [
    "import itertools\n",
    "from typing import Tuple\n",
    "\n",
    "import pandas as pd\n",
    "import numpy as np\n",
    "import matplotlib.pyplot as plt\n",
    "import seaborn as sns\n",
    "import statsmodels.api as sm\n",
    "\n",
    "import network\n",
    "from preprocess_data import (\n",
    "    GAMES,\n",
    "    MAX_PENALTY_NUMBER,\n",
    "    build_networks,\n",
    "    Game,\n",
    "    Venue,\n",
    "    Situation,\n",
    "    PowerPlay,\n",
    ")"
   ]
  },
  {
   "cell_type": "code",
   "execution_count": null,
   "metadata": {},
   "outputs": [],
   "source": [
    "def regular_networks():\n",
    "    for game, venue, (situation, pp) in itertools.product(GAMES, [Venue.HOME, Venue.AWAY], [(Situation.REGULAR, None)]):\n",
    "        res = build_networks(Game(game), venue=venue, situation=situation, pp=pp)\n",
    "        if res is not None:\n",
    "            yield network.process_graph_for_analysis(res[\"position_pass_network\"])\n",
    "\n",
    "\n",
    "def power_play_networks():\n",
    "    for game, venue, pp in itertools.product(\n",
    "        GAMES, [Venue.HOME, Venue.AWAY], list(map(PowerPlay, range(1, MAX_PENALTY_NUMBER + 1)))\n",
    "    ):\n",
    "        res = build_networks(Game(game), venue=venue, situation=Situation.POWER_PLAY, pp=pp)\n",
    "        if res is not None and len(res[\"position_pass_network\"].nodes) > 0:\n",
    "            yield network.process_graph_for_analysis(res[\"position_pass_network\"])"
   ]
  },
  {
   "cell_type": "code",
   "execution_count": null,
   "metadata": {},
   "outputs": [],
   "source": [
    "\"G.name are formatted like '2022-02-08 Canada at USA_home_pp2'\"\n",
    "\n",
    "\n",
    "def match_and_venue(G) -> Tuple[str, str]:\n",
    "    game, venue, _ = G.name.split(\"_\")\n",
    "    return f\"{game}_{venue}\"\n",
    "\n",
    "\n",
    "def match(G) -> str:\n",
    "    return G.name.split(\"_\")[0]\n",
    "\n",
    "\n",
    "def pp_number(G) -> int:\n",
    "    assert G.name[-1] in \"12345678\"\n",
    "    return int(G.name[-1])\n",
    "\n",
    "\n",
    "def covariates(feature: callable) -> pd.DataFrame:\n",
    "    \"\"\"\n",
    "    Build the design matrix where the first column is the feature of the normal play\n",
    "    network and the second column is the feature of the powerplay network.\n",
    "    \"\"\"\n",
    "    regular_feature_map = {match_and_venue(G): feature(G) for G in regular_networks()}\n",
    "    df = pd.DataFrame(\n",
    "        [\n",
    "            {\"game_str\": G.name, \"normal\": regular_feature_map[match_and_venue(G)], \"pp\": feature(G)}\n",
    "            for G in power_play_networks()\n",
    "        ]\n",
    "    )\n",
    "    return df\n",
    "\n",
    "\n",
    "def goal_labels() -> list:\n",
    "    pp_info = pd.read_csv(\"external/Big-Data-Cup-2022/data/pp_info.csv\", comment=\"#\")\n",
    "    str_to_int = {\"t\": 1, \"f\": 0}\n",
    "    # {(game_name, pp_number): goal}\n",
    "    pp_to_goal = {(row.game_name, row.penalty_number): str_to_int[row.goal] for row in pp_info.itertuples()}\n",
    "    y = [pp_to_goal[(match(G), pp_number(G))] for G in power_play_networks()]\n",
    "    return y\n",
    "\n",
    "\n",
    "def get_X_y(feature: callable) -> pd.DataFrame:\n",
    "    df = covariates(feature)\n",
    "    df[\"goal\"] = goal_labels()\n",
    "    return df"
   ]
  },
  {
   "cell_type": "code",
   "execution_count": null,
   "metadata": {},
   "outputs": [],
   "source": [
    "get_X_y(network.assortativity).head(10)"
   ]
  },
  {
   "cell_type": "code",
   "execution_count": null,
   "metadata": {},
   "outputs": [],
   "source": [
    "def fit(feature: callable):\n",
    "    df = get_X_y(feature)\n",
    "    X = df[[\"normal\", \"pp\"]]\n",
    "    X = sm.add_constant(X)\n",
    "    y = df[\"goal\"]\n",
    "    model = sm.Logit(y, X).fit()\n",
    "    print(model.summary())"
   ]
  },
  {
   "cell_type": "code",
   "execution_count": null,
   "metadata": {},
   "outputs": [],
   "source": [
    "for feature in [network.assortativity, network.clustering, network.connectivity, network.number_connected_components]:\n",
    "    print(f\"Feature: {feature.__name__}\")\n",
    "    fit(feature)\n",
    "    print(\"\\n\\n\")"
   ]
  }
 ],
 "metadata": {
  "kernelspec": {
   "display_name": "sn",
   "language": "python",
   "name": "python3"
  },
  "language_info": {
   "codemirror_mode": {
    "name": "ipython",
    "version": 3
   },
   "file_extension": ".py",
   "mimetype": "text/x-python",
   "name": "python",
   "nbconvert_exporter": "python",
   "pygments_lexer": "ipython3",
   "version": "3.10.13"
  }
 },
 "nbformat": 4,
 "nbformat_minor": 2
}
