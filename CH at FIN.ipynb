{
 "cells": [
  {
   "cell_type": "code",
   "execution_count": 1,
   "id": "da63612e-1206-4088-914e-cec7cf370142",
   "metadata": {},
   "outputs": [],
   "source": [
    "import os\n",
    "\n",
    "import numpy as np\n",
    "import pandas as pd"
   ]
  },
  {
   "cell_type": "code",
   "execution_count": 2,
   "id": "7e7c5157-4067-41f1-99a7-1e0017701565",
   "metadata": {},
   "outputs": [],
   "source": [
    "# Matching dictionary for team names between events and tracking data\n",
    "TEAM_NAMES = {'Canada': 'Olympic (Women) - Canada',\n",
    "              'USA': 'Olympic (Women) - United States',\n",
    "              'Finland': 'Olympic (Women) - Finland',\n",
    "              'ROC': 'Olympic (Women) - Olympic Athletes from Russia',\n",
    "              'Switzerland': 'Olympic (Women) - Switzerland'}"
   ]
  },
  {
   "cell_type": "code",
   "execution_count": 3,
   "id": "abd8e72a-8177-4501-b243-6abb75c8ee61",
   "metadata": {},
   "outputs": [],
   "source": [
    "tracking_dir = \"external/Big-Data-Cup-2022/data\"\n",
    "pbp_dir = \"external/Big-Data-Cup-2022/data\"\n",
    "play_by_play_data_file = 'pxp_womens_oly_2022_v2.csv'\n",
    "power_play_info_file = 'pp_info.csv'"
   ]
  },
  {
   "cell_type": "code",
   "execution_count": 4,
   "id": "234f76d2-9ffb-44dd-b972-3d3154f74146",
   "metadata": {},
   "outputs": [],
   "source": [
    "def sort_row_by_col(row, col=\"player_name\"):\n",
    "    if row[col + \"_2\"] < row[col]:\n",
    "        for col in [\"player_name\", \"jn\", \"position\"]:\n",
    "        # for col in [\"player_name\"]:\n",
    "            tmp = row[col + \"_2\"]\n",
    "            row[col + \"_2\"] = row[col]\n",
    "            row[col] = tmp\n",
    "        \n",
    "    return row"
   ]
  },
  {
   "cell_type": "code",
   "execution_count": 5,
   "id": "729bff8e-7742-4e33-be44-bfddbe770893",
   "metadata": {},
   "outputs": [],
   "source": [
    "play_by_play_data = pd.read_csv(os.path.join(tracking_dir, play_by_play_data_file))"
   ]
  },
  {
   "cell_type": "code",
   "execution_count": 6,
   "id": "4d55b1cb-3075-4880-8ce7-157d50622fae",
   "metadata": {},
   "outputs": [],
   "source": [
    "def run(game, game_date, team_name):\n",
    "    this_game = play_by_play_data.copy()\n",
    "    # power_play_info = pd.read_csv(os.path.join(pbp_dir, power_play_info_file))\n",
    "    roster_info = pd.read_csv(os.path.join(tracking_dir, game, game + \" roster.csv\"), index_col=0)\n",
    "    \n",
    "    this_game = this_game[this_game[\"game_date\"] == game_date]\n",
    "    this_game = this_game[this_game[\"team_name\"] == team_name]\n",
    "    this_game = this_game[(this_game[\"event\"] == \"Play\") & this_game[\"event_successful\"]]\n",
    "    this_game = this_game.join(roster_info, on = \"player_name\").join(roster_info, on = \"player_name_2\", rsuffix=\"_2\")\n",
    "    # Exclude goalie\n",
    "    # this_game = this_game[(this_game[\"position\"] != \"Goalie\") & (this_game[\"position_2\"] != \"Goalie\")]\n",
    "\n",
    "    # By player\n",
    "    # collected_passes = this_game.apply(lambda row: sort_row_by_col(row, col=\"player_name\"), axis=1)\n",
    "    # collected_passes = collected_passes.loc[:, [\"player_name\", \"player_name_2\"]].value_counts()\n",
    "    # for period in [1, 2, 3]:\n",
    "        # collected_passes = this_game[this_game[\"period\"] == period]\n",
    "    \n",
    "    # By position\n",
    "    collected_passes = this_game.apply(lambda row: sort_row_by_col(row, col=\"position\"), axis=1)\n",
    "    # Remove loops\n",
    "    # collected_passes = collected_passes[collected_passes[\"position\"] != collected_passes[\"position_2\"]]\n",
    "    collected_passes = collected_passes.loc[:, [\"position\", \"position_2\"]].value_counts()\n",
    "    print(collected_passes)\n",
    "    \n",
    "    # Write to CSV\n",
    "    collected_passes.to_csv(f\"{game} passes.csv\")"
   ]
  },
  {
   "cell_type": "code",
   "execution_count": 7,
   "id": "c7cf3ab9-297d-408a-a90a-c8201ff1bca4",
   "metadata": {},
   "outputs": [
    {
     "name": "stdout",
     "output_type": "stream",
     "text": [
      "position       position_2   \n",
      "Left Defense   Right Defense    59\n",
      "Left Wing      Right Defense    57\n",
      "Left Defense   Left Wing        45\n",
      "Left Wing      Right Wing       41\n",
      "Left Defense   Right Wing       39\n",
      "Center         Left Defense     28\n",
      "               Left Wing        24\n",
      "Right Defense  Right Wing       24\n",
      "Center         Right Defense    23\n",
      "               Right Wing       21\n",
      "Left Wing      Left Wing        21\n",
      "Center         Center            6\n",
      "Right Wing     Right Wing        6\n",
      "Goalie         Left Defense      4\n",
      "Left Defense   Left Defense      3\n",
      "Right Defense  Right Defense     3\n",
      "Goalie         Right Defense     2\n",
      "               Left Wing         2\n",
      "Name: count, dtype: int64\n"
     ]
    }
   ],
   "source": [
    "game = \"2022-02-16 Switzerland at Finland\"\n",
    "game_date = \"16/2/2022\"\n",
    "team_name = TEAM_NAMES[\"Finland\"]\n",
    "run(game, game_date, team_name)"
   ]
  }
 ],
 "metadata": {
  "kernelspec": {
   "display_name": "Python 3 (ipykernel)",
   "language": "python",
   "name": "python3"
  },
  "language_info": {
   "codemirror_mode": {
    "name": "ipython",
    "version": 3
   },
   "file_extension": ".py",
   "mimetype": "text/x-python",
   "name": "python",
   "nbconvert_exporter": "python",
   "pygments_lexer": "ipython3",
   "version": "3.11.5"
  }
 },
 "nbformat": 4,
 "nbformat_minor": 5
}
